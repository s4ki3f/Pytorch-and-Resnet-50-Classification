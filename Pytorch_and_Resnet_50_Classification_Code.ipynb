{
  "nbformat": 4,
  "nbformat_minor": 0,
  "metadata": {
    "colab": {
      "provenance": []
    },
    "kernelspec": {
      "name": "python3",
      "display_name": "Python 3"
    },
    "language_info": {
      "name": "python"
    },
    "accelerator": "GPU",
    "widgets": {
      "application/vnd.jupyter.widget-state+json": {
        "e05eea0080d1414485934e2bb29de24f": {
          "model_module": "@jupyter-widgets/controls",
          "model_name": "HBoxModel",
          "model_module_version": "1.5.0",
          "state": {
            "_dom_classes": [],
            "_model_module": "@jupyter-widgets/controls",
            "_model_module_version": "1.5.0",
            "_model_name": "HBoxModel",
            "_view_count": null,
            "_view_module": "@jupyter-widgets/controls",
            "_view_module_version": "1.5.0",
            "_view_name": "HBoxView",
            "box_style": "",
            "children": [
              "IPY_MODEL_f5afcdd40efa48d4993b8e389951e202",
              "IPY_MODEL_d5157571d2eb4f4aae63858004c5ba64",
              "IPY_MODEL_63df980ed3c14cc6ab791ab5b596abbe"
            ],
            "layout": "IPY_MODEL_1bb7112b3496427480d67c867663b223"
          }
        },
        "f5afcdd40efa48d4993b8e389951e202": {
          "model_module": "@jupyter-widgets/controls",
          "model_name": "HTMLModel",
          "model_module_version": "1.5.0",
          "state": {
            "_dom_classes": [],
            "_model_module": "@jupyter-widgets/controls",
            "_model_module_version": "1.5.0",
            "_model_name": "HTMLModel",
            "_view_count": null,
            "_view_module": "@jupyter-widgets/controls",
            "_view_module_version": "1.5.0",
            "_view_name": "HTMLView",
            "description": "",
            "description_tooltip": null,
            "layout": "IPY_MODEL_420c974b5a0249e4936f62e86522dbe6",
            "placeholder": "​",
            "style": "IPY_MODEL_1565636560d3442aa1654f19802f764d",
            "value": "100%"
          }
        },
        "d5157571d2eb4f4aae63858004c5ba64": {
          "model_module": "@jupyter-widgets/controls",
          "model_name": "FloatProgressModel",
          "model_module_version": "1.5.0",
          "state": {
            "_dom_classes": [],
            "_model_module": "@jupyter-widgets/controls",
            "_model_module_version": "1.5.0",
            "_model_name": "FloatProgressModel",
            "_view_count": null,
            "_view_module": "@jupyter-widgets/controls",
            "_view_module_version": "1.5.0",
            "_view_name": "ProgressView",
            "bar_style": "success",
            "description": "",
            "description_tooltip": null,
            "layout": "IPY_MODEL_a8049e10eea84d83aaec15de5c857377",
            "max": 102530333,
            "min": 0,
            "orientation": "horizontal",
            "style": "IPY_MODEL_3c392a71f0fe439c9570a568f92391fc",
            "value": 102530333
          }
        },
        "63df980ed3c14cc6ab791ab5b596abbe": {
          "model_module": "@jupyter-widgets/controls",
          "model_name": "HTMLModel",
          "model_module_version": "1.5.0",
          "state": {
            "_dom_classes": [],
            "_model_module": "@jupyter-widgets/controls",
            "_model_module_version": "1.5.0",
            "_model_name": "HTMLModel",
            "_view_count": null,
            "_view_module": "@jupyter-widgets/controls",
            "_view_module_version": "1.5.0",
            "_view_name": "HTMLView",
            "description": "",
            "description_tooltip": null,
            "layout": "IPY_MODEL_8ff2a093ab55406aa82c0ad53dddaba0",
            "placeholder": "​",
            "style": "IPY_MODEL_e6f9eccc28fa4d3cbab23f0bfee846ca",
            "value": " 97.8M/97.8M [00:01&lt;00:00, 78.1MB/s]"
          }
        },
        "1bb7112b3496427480d67c867663b223": {
          "model_module": "@jupyter-widgets/base",
          "model_name": "LayoutModel",
          "model_module_version": "1.2.0",
          "state": {
            "_model_module": "@jupyter-widgets/base",
            "_model_module_version": "1.2.0",
            "_model_name": "LayoutModel",
            "_view_count": null,
            "_view_module": "@jupyter-widgets/base",
            "_view_module_version": "1.2.0",
            "_view_name": "LayoutView",
            "align_content": null,
            "align_items": null,
            "align_self": null,
            "border": null,
            "bottom": null,
            "display": null,
            "flex": null,
            "flex_flow": null,
            "grid_area": null,
            "grid_auto_columns": null,
            "grid_auto_flow": null,
            "grid_auto_rows": null,
            "grid_column": null,
            "grid_gap": null,
            "grid_row": null,
            "grid_template_areas": null,
            "grid_template_columns": null,
            "grid_template_rows": null,
            "height": null,
            "justify_content": null,
            "justify_items": null,
            "left": null,
            "margin": null,
            "max_height": null,
            "max_width": null,
            "min_height": null,
            "min_width": null,
            "object_fit": null,
            "object_position": null,
            "order": null,
            "overflow": null,
            "overflow_x": null,
            "overflow_y": null,
            "padding": null,
            "right": null,
            "top": null,
            "visibility": null,
            "width": null
          }
        },
        "420c974b5a0249e4936f62e86522dbe6": {
          "model_module": "@jupyter-widgets/base",
          "model_name": "LayoutModel",
          "model_module_version": "1.2.0",
          "state": {
            "_model_module": "@jupyter-widgets/base",
            "_model_module_version": "1.2.0",
            "_model_name": "LayoutModel",
            "_view_count": null,
            "_view_module": "@jupyter-widgets/base",
            "_view_module_version": "1.2.0",
            "_view_name": "LayoutView",
            "align_content": null,
            "align_items": null,
            "align_self": null,
            "border": null,
            "bottom": null,
            "display": null,
            "flex": null,
            "flex_flow": null,
            "grid_area": null,
            "grid_auto_columns": null,
            "grid_auto_flow": null,
            "grid_auto_rows": null,
            "grid_column": null,
            "grid_gap": null,
            "grid_row": null,
            "grid_template_areas": null,
            "grid_template_columns": null,
            "grid_template_rows": null,
            "height": null,
            "justify_content": null,
            "justify_items": null,
            "left": null,
            "margin": null,
            "max_height": null,
            "max_width": null,
            "min_height": null,
            "min_width": null,
            "object_fit": null,
            "object_position": null,
            "order": null,
            "overflow": null,
            "overflow_x": null,
            "overflow_y": null,
            "padding": null,
            "right": null,
            "top": null,
            "visibility": null,
            "width": null
          }
        },
        "1565636560d3442aa1654f19802f764d": {
          "model_module": "@jupyter-widgets/controls",
          "model_name": "DescriptionStyleModel",
          "model_module_version": "1.5.0",
          "state": {
            "_model_module": "@jupyter-widgets/controls",
            "_model_module_version": "1.5.0",
            "_model_name": "DescriptionStyleModel",
            "_view_count": null,
            "_view_module": "@jupyter-widgets/base",
            "_view_module_version": "1.2.0",
            "_view_name": "StyleView",
            "description_width": ""
          }
        },
        "a8049e10eea84d83aaec15de5c857377": {
          "model_module": "@jupyter-widgets/base",
          "model_name": "LayoutModel",
          "model_module_version": "1.2.0",
          "state": {
            "_model_module": "@jupyter-widgets/base",
            "_model_module_version": "1.2.0",
            "_model_name": "LayoutModel",
            "_view_count": null,
            "_view_module": "@jupyter-widgets/base",
            "_view_module_version": "1.2.0",
            "_view_name": "LayoutView",
            "align_content": null,
            "align_items": null,
            "align_self": null,
            "border": null,
            "bottom": null,
            "display": null,
            "flex": null,
            "flex_flow": null,
            "grid_area": null,
            "grid_auto_columns": null,
            "grid_auto_flow": null,
            "grid_auto_rows": null,
            "grid_column": null,
            "grid_gap": null,
            "grid_row": null,
            "grid_template_areas": null,
            "grid_template_columns": null,
            "grid_template_rows": null,
            "height": null,
            "justify_content": null,
            "justify_items": null,
            "left": null,
            "margin": null,
            "max_height": null,
            "max_width": null,
            "min_height": null,
            "min_width": null,
            "object_fit": null,
            "object_position": null,
            "order": null,
            "overflow": null,
            "overflow_x": null,
            "overflow_y": null,
            "padding": null,
            "right": null,
            "top": null,
            "visibility": null,
            "width": null
          }
        },
        "3c392a71f0fe439c9570a568f92391fc": {
          "model_module": "@jupyter-widgets/controls",
          "model_name": "ProgressStyleModel",
          "model_module_version": "1.5.0",
          "state": {
            "_model_module": "@jupyter-widgets/controls",
            "_model_module_version": "1.5.0",
            "_model_name": "ProgressStyleModel",
            "_view_count": null,
            "_view_module": "@jupyter-widgets/base",
            "_view_module_version": "1.2.0",
            "_view_name": "StyleView",
            "bar_color": null,
            "description_width": ""
          }
        },
        "8ff2a093ab55406aa82c0ad53dddaba0": {
          "model_module": "@jupyter-widgets/base",
          "model_name": "LayoutModel",
          "model_module_version": "1.2.0",
          "state": {
            "_model_module": "@jupyter-widgets/base",
            "_model_module_version": "1.2.0",
            "_model_name": "LayoutModel",
            "_view_count": null,
            "_view_module": "@jupyter-widgets/base",
            "_view_module_version": "1.2.0",
            "_view_name": "LayoutView",
            "align_content": null,
            "align_items": null,
            "align_self": null,
            "border": null,
            "bottom": null,
            "display": null,
            "flex": null,
            "flex_flow": null,
            "grid_area": null,
            "grid_auto_columns": null,
            "grid_auto_flow": null,
            "grid_auto_rows": null,
            "grid_column": null,
            "grid_gap": null,
            "grid_row": null,
            "grid_template_areas": null,
            "grid_template_columns": null,
            "grid_template_rows": null,
            "height": null,
            "justify_content": null,
            "justify_items": null,
            "left": null,
            "margin": null,
            "max_height": null,
            "max_width": null,
            "min_height": null,
            "min_width": null,
            "object_fit": null,
            "object_position": null,
            "order": null,
            "overflow": null,
            "overflow_x": null,
            "overflow_y": null,
            "padding": null,
            "right": null,
            "top": null,
            "visibility": null,
            "width": null
          }
        },
        "e6f9eccc28fa4d3cbab23f0bfee846ca": {
          "model_module": "@jupyter-widgets/controls",
          "model_name": "DescriptionStyleModel",
          "model_module_version": "1.5.0",
          "state": {
            "_model_module": "@jupyter-widgets/controls",
            "_model_module_version": "1.5.0",
            "_model_name": "DescriptionStyleModel",
            "_view_count": null,
            "_view_module": "@jupyter-widgets/base",
            "_view_module_version": "1.2.0",
            "_view_name": "StyleView",
            "description_width": ""
          }
        },
        "7b8850c9c89640e0b345e13cb9620005": {
          "model_module": "@jupyter-widgets/controls",
          "model_name": "HBoxModel",
          "model_module_version": "1.5.0",
          "state": {
            "_dom_classes": [],
            "_model_module": "@jupyter-widgets/controls",
            "_model_module_version": "1.5.0",
            "_model_name": "HBoxModel",
            "_view_count": null,
            "_view_module": "@jupyter-widgets/controls",
            "_view_module_version": "1.5.0",
            "_view_name": "HBoxView",
            "box_style": "",
            "children": [
              "IPY_MODEL_fb4e90daf5b24fcc95583e85d0bc601d",
              "IPY_MODEL_d7008f756da149118c625187c3391b3f",
              "IPY_MODEL_af3d5a38660c430d886648f1c5157938"
            ],
            "layout": "IPY_MODEL_00fe0cddf05c4df6ac4bbe80eff026af"
          }
        },
        "fb4e90daf5b24fcc95583e85d0bc601d": {
          "model_module": "@jupyter-widgets/controls",
          "model_name": "HTMLModel",
          "model_module_version": "1.5.0",
          "state": {
            "_dom_classes": [],
            "_model_module": "@jupyter-widgets/controls",
            "_model_module_version": "1.5.0",
            "_model_name": "HTMLModel",
            "_view_count": null,
            "_view_module": "@jupyter-widgets/controls",
            "_view_module_version": "1.5.0",
            "_view_name": "HTMLView",
            "description": "",
            "description_tooltip": null,
            "layout": "IPY_MODEL_4f89164d813440deb70030e926835d93",
            "placeholder": "​",
            "style": "IPY_MODEL_69fdb579303341539e41eddce9ff89eb",
            "value": ""
          }
        },
        "d7008f756da149118c625187c3391b3f": {
          "model_module": "@jupyter-widgets/controls",
          "model_name": "FloatProgressModel",
          "model_module_version": "1.5.0",
          "state": {
            "_dom_classes": [],
            "_model_module": "@jupyter-widgets/controls",
            "_model_module_version": "1.5.0",
            "_model_name": "FloatProgressModel",
            "_view_count": null,
            "_view_module": "@jupyter-widgets/controls",
            "_view_module_version": "1.5.0",
            "_view_name": "ProgressView",
            "bar_style": "success",
            "description": "",
            "description_tooltip": null,
            "layout": "IPY_MODEL_d76b87d495a341bfa4480b0ef75a9930",
            "max": 2640397119,
            "min": 0,
            "orientation": "horizontal",
            "style": "IPY_MODEL_e574da8800f34555ab427afac4507b4f",
            "value": 2640397119
          }
        },
        "af3d5a38660c430d886648f1c5157938": {
          "model_module": "@jupyter-widgets/controls",
          "model_name": "HTMLModel",
          "model_module_version": "1.5.0",
          "state": {
            "_dom_classes": [],
            "_model_module": "@jupyter-widgets/controls",
            "_model_module_version": "1.5.0",
            "_model_name": "HTMLModel",
            "_view_count": null,
            "_view_module": "@jupyter-widgets/controls",
            "_view_module_version": "1.5.0",
            "_view_name": "HTMLView",
            "description": "",
            "description_tooltip": null,
            "layout": "IPY_MODEL_25bdee43364b41518de6061250ba2a5a",
            "placeholder": "​",
            "style": "IPY_MODEL_9db6af6b03254c98a76d7d4c9541a30a",
            "value": " 2640397312/? [01:54&lt;00:00, 25387358.81it/s]"
          }
        },
        "00fe0cddf05c4df6ac4bbe80eff026af": {
          "model_module": "@jupyter-widgets/base",
          "model_name": "LayoutModel",
          "model_module_version": "1.2.0",
          "state": {
            "_model_module": "@jupyter-widgets/base",
            "_model_module_version": "1.2.0",
            "_model_name": "LayoutModel",
            "_view_count": null,
            "_view_module": "@jupyter-widgets/base",
            "_view_module_version": "1.2.0",
            "_view_name": "LayoutView",
            "align_content": null,
            "align_items": null,
            "align_self": null,
            "border": null,
            "bottom": null,
            "display": null,
            "flex": null,
            "flex_flow": null,
            "grid_area": null,
            "grid_auto_columns": null,
            "grid_auto_flow": null,
            "grid_auto_rows": null,
            "grid_column": null,
            "grid_gap": null,
            "grid_row": null,
            "grid_template_areas": null,
            "grid_template_columns": null,
            "grid_template_rows": null,
            "height": null,
            "justify_content": null,
            "justify_items": null,
            "left": null,
            "margin": null,
            "max_height": null,
            "max_width": null,
            "min_height": null,
            "min_width": null,
            "object_fit": null,
            "object_position": null,
            "order": null,
            "overflow": null,
            "overflow_x": null,
            "overflow_y": null,
            "padding": null,
            "right": null,
            "top": null,
            "visibility": null,
            "width": null
          }
        },
        "4f89164d813440deb70030e926835d93": {
          "model_module": "@jupyter-widgets/base",
          "model_name": "LayoutModel",
          "model_module_version": "1.2.0",
          "state": {
            "_model_module": "@jupyter-widgets/base",
            "_model_module_version": "1.2.0",
            "_model_name": "LayoutModel",
            "_view_count": null,
            "_view_module": "@jupyter-widgets/base",
            "_view_module_version": "1.2.0",
            "_view_name": "LayoutView",
            "align_content": null,
            "align_items": null,
            "align_self": null,
            "border": null,
            "bottom": null,
            "display": null,
            "flex": null,
            "flex_flow": null,
            "grid_area": null,
            "grid_auto_columns": null,
            "grid_auto_flow": null,
            "grid_auto_rows": null,
            "grid_column": null,
            "grid_gap": null,
            "grid_row": null,
            "grid_template_areas": null,
            "grid_template_columns": null,
            "grid_template_rows": null,
            "height": null,
            "justify_content": null,
            "justify_items": null,
            "left": null,
            "margin": null,
            "max_height": null,
            "max_width": null,
            "min_height": null,
            "min_width": null,
            "object_fit": null,
            "object_position": null,
            "order": null,
            "overflow": null,
            "overflow_x": null,
            "overflow_y": null,
            "padding": null,
            "right": null,
            "top": null,
            "visibility": null,
            "width": null
          }
        },
        "69fdb579303341539e41eddce9ff89eb": {
          "model_module": "@jupyter-widgets/controls",
          "model_name": "DescriptionStyleModel",
          "model_module_version": "1.5.0",
          "state": {
            "_model_module": "@jupyter-widgets/controls",
            "_model_module_version": "1.5.0",
            "_model_name": "DescriptionStyleModel",
            "_view_count": null,
            "_view_module": "@jupyter-widgets/base",
            "_view_module_version": "1.2.0",
            "_view_name": "StyleView",
            "description_width": ""
          }
        },
        "d76b87d495a341bfa4480b0ef75a9930": {
          "model_module": "@jupyter-widgets/base",
          "model_name": "LayoutModel",
          "model_module_version": "1.2.0",
          "state": {
            "_model_module": "@jupyter-widgets/base",
            "_model_module_version": "1.2.0",
            "_model_name": "LayoutModel",
            "_view_count": null,
            "_view_module": "@jupyter-widgets/base",
            "_view_module_version": "1.2.0",
            "_view_name": "LayoutView",
            "align_content": null,
            "align_items": null,
            "align_self": null,
            "border": null,
            "bottom": null,
            "display": null,
            "flex": null,
            "flex_flow": null,
            "grid_area": null,
            "grid_auto_columns": null,
            "grid_auto_flow": null,
            "grid_auto_rows": null,
            "grid_column": null,
            "grid_gap": null,
            "grid_row": null,
            "grid_template_areas": null,
            "grid_template_columns": null,
            "grid_template_rows": null,
            "height": null,
            "justify_content": null,
            "justify_items": null,
            "left": null,
            "margin": null,
            "max_height": null,
            "max_width": null,
            "min_height": null,
            "min_width": null,
            "object_fit": null,
            "object_position": null,
            "order": null,
            "overflow": null,
            "overflow_x": null,
            "overflow_y": null,
            "padding": null,
            "right": null,
            "top": null,
            "visibility": null,
            "width": null
          }
        },
        "e574da8800f34555ab427afac4507b4f": {
          "model_module": "@jupyter-widgets/controls",
          "model_name": "ProgressStyleModel",
          "model_module_version": "1.5.0",
          "state": {
            "_model_module": "@jupyter-widgets/controls",
            "_model_module_version": "1.5.0",
            "_model_name": "ProgressStyleModel",
            "_view_count": null,
            "_view_module": "@jupyter-widgets/base",
            "_view_module_version": "1.2.0",
            "_view_name": "StyleView",
            "bar_color": null,
            "description_width": ""
          }
        },
        "25bdee43364b41518de6061250ba2a5a": {
          "model_module": "@jupyter-widgets/base",
          "model_name": "LayoutModel",
          "model_module_version": "1.2.0",
          "state": {
            "_model_module": "@jupyter-widgets/base",
            "_model_module_version": "1.2.0",
            "_model_name": "LayoutModel",
            "_view_count": null,
            "_view_module": "@jupyter-widgets/base",
            "_view_module_version": "1.2.0",
            "_view_name": "LayoutView",
            "align_content": null,
            "align_items": null,
            "align_self": null,
            "border": null,
            "bottom": null,
            "display": null,
            "flex": null,
            "flex_flow": null,
            "grid_area": null,
            "grid_auto_columns": null,
            "grid_auto_flow": null,
            "grid_auto_rows": null,
            "grid_column": null,
            "grid_gap": null,
            "grid_row": null,
            "grid_template_areas": null,
            "grid_template_columns": null,
            "grid_template_rows": null,
            "height": null,
            "justify_content": null,
            "justify_items": null,
            "left": null,
            "margin": null,
            "max_height": null,
            "max_width": null,
            "min_height": null,
            "min_width": null,
            "object_fit": null,
            "object_position": null,
            "order": null,
            "overflow": null,
            "overflow_x": null,
            "overflow_y": null,
            "padding": null,
            "right": null,
            "top": null,
            "visibility": null,
            "width": null
          }
        },
        "9db6af6b03254c98a76d7d4c9541a30a": {
          "model_module": "@jupyter-widgets/controls",
          "model_name": "DescriptionStyleModel",
          "model_module_version": "1.5.0",
          "state": {
            "_model_module": "@jupyter-widgets/controls",
            "_model_module_version": "1.5.0",
            "_model_name": "DescriptionStyleModel",
            "_view_count": null,
            "_view_module": "@jupyter-widgets/base",
            "_view_module_version": "1.2.0",
            "_view_name": "StyleView",
            "description_width": ""
          }
        }
      }
    }
  },
  "cells": [
    {
      "cell_type": "markdown",
      "source": [
        "### Classification using pytorch and Resnet50\n",
        "\n",
        "## Importing pytorch and downloading the model"
      ],
      "metadata": {
        "id": "6Q5m4tK-8Tlz"
      }
    },
    {
      "cell_type": "code",
      "execution_count": null,
      "metadata": {
        "id": "eUDA7njQrdic",
        "colab": {
          "base_uri": "https://localhost:8080/",
          "height": 86,
          "referenced_widgets": [
            "e05eea0080d1414485934e2bb29de24f",
            "f5afcdd40efa48d4993b8e389951e202",
            "d5157571d2eb4f4aae63858004c5ba64",
            "63df980ed3c14cc6ab791ab5b596abbe",
            "1bb7112b3496427480d67c867663b223",
            "420c974b5a0249e4936f62e86522dbe6",
            "1565636560d3442aa1654f19802f764d",
            "a8049e10eea84d83aaec15de5c857377",
            "3c392a71f0fe439c9570a568f92391fc",
            "8ff2a093ab55406aa82c0ad53dddaba0",
            "e6f9eccc28fa4d3cbab23f0bfee846ca"
          ]
        },
        "outputId": "9b605668-b834-4c91-b925-dfa2d245d992"
      },
      "outputs": [
        {
          "output_type": "stream",
          "name": "stderr",
          "text": [
            "Downloading: \"https://github.com/pytorch/vision/zipball/v0.10.0\" to /root/.cache/torch/hub/v0.10.0.zip\n",
            "Downloading: \"https://download.pytorch.org/models/resnet50-0676ba61.pth\" to /root/.cache/torch/hub/checkpoints/resnet50-0676ba61.pth\n"
          ]
        },
        {
          "output_type": "display_data",
          "data": {
            "text/plain": [
              "  0%|          | 0.00/97.8M [00:00<?, ?B/s]"
            ],
            "application/vnd.jupyter.widget-view+json": {
              "version_major": 2,
              "version_minor": 0,
              "model_id": "e05eea0080d1414485934e2bb29de24f"
            }
          },
          "metadata": {}
        }
      ],
      "source": [
        "import torch\n",
        "var1 = True\n",
        "neg_num = -1\n",
        "model = torch.hub.load('pytorch/vision:v0.10.0', 'resnet50', pretrained=var1)\n",
        "newmodel = torch.nn.Sequential(*(list(model.children())[:neg_num]))"
      ]
    },
    {
      "cell_type": "markdown",
      "source": [
        "*Import* all the necessary libraries"
      ],
      "metadata": {
        "id": "IX1yciUFBdPg"
      }
    },
    {
      "cell_type": "code",
      "source": [
        "import urllib as path_files\n",
        "url, filename = (\"https://github.com/pytorch/hub/raw/master/images/dog.jpg\", \"dog.jpg\")\n",
        "try: \n",
        "  path_files.URLopener().retrieve(url, filename)\n",
        "except: \n",
        "  path_files.request.urlretrieve(url, filename)"
      ],
      "metadata": {
        "id": "wFA3dMMXE0fA"
      },
      "execution_count": null,
      "outputs": []
    },
    {
      "cell_type": "code",
      "source": [
        "# sample execution (requires torchvision)\n",
        "from PIL import Image\n",
        "from torchvision import transforms\n",
        "input_image = Image.open(filename)\n",
        "\n",
        "stds = [0.229, 0.224, 0.225]\n",
        "resizing_ratio = 32\n",
        "means = [0.485, 0.456, 0.406]\n",
        "\n",
        "preprocess = transforms.Compose([\n",
        "    transforms.Resize(resizing_ratio),\n",
        "    transforms.ToTensor(),\n",
        "    transforms.Normalize(mean=means, std=stds),\n",
        "])\n",
        "\n",
        "zer = 0\n",
        "input_tensor= preprocess(input_image)\n",
        "input_batch = input_tensor.unsqueeze(zer) \n",
        "\n",
        "if torch.cuda.is_available():\n",
        "    input_batch = input_batch.to('cuda')\n",
        "    newmodel.to('cuda')\n",
        "\n",
        "with torch.no_grad():\n",
        "    output = newmodel(input_batch)\n",
        "\n",
        "probabilities = torch.nn.functional.softmax(output[0], dim=0)\n"
      ],
      "metadata": {
        "id": "rww6MsR7E71q"
      },
      "execution_count": null,
      "outputs": []
    },
    {
      "cell_type": "markdown",
      "source": [
        "transformations\n"
      ],
      "metadata": {
        "id": "FpFdZA5tnR3a"
      }
    },
    {
      "cell_type": "code",
      "source": [
        "import torchvision\n",
        "import numpy as np\n",
        "nor1 = [0.5, 0.5, 0.5]\n",
        "nor2 = [0.5, 0.5, 0.5]\n",
        "resize_factor = 224\n",
        "\n",
        "transform = torchvision.transforms.Compose([\n",
        "    torchvision.transforms.Resize(resize_factor),\n",
        "    torchvision.transforms.ToTensor(),\n",
        "    torchvision.transforms.Normalize(nor1, nor2)\n",
        "])"
      ],
      "metadata": {
        "id": "tk1x2v6oF5dI"
      },
      "execution_count": null,
      "outputs": []
    },
    {
      "cell_type": "markdown",
      "source": [
        "Creation of train and test dataset"
      ],
      "metadata": {
        "id": "H2ggMT8fnd0B"
      }
    },
    {
      "cell_type": "code",
      "source": [
        "from torchvision.datasets import STL10\n",
        "trainset, testset = STL10('/content',transform=transform, download = True), STL10('/content',\"test\",transform=transform)"
      ],
      "metadata": {
        "id": "69MpHwMUIzWx",
        "colab": {
          "base_uri": "https://localhost:8080/",
          "height": 86,
          "referenced_widgets": [
            "7b8850c9c89640e0b345e13cb9620005",
            "fb4e90daf5b24fcc95583e85d0bc601d",
            "d7008f756da149118c625187c3391b3f",
            "af3d5a38660c430d886648f1c5157938",
            "00fe0cddf05c4df6ac4bbe80eff026af",
            "4f89164d813440deb70030e926835d93",
            "69fdb579303341539e41eddce9ff89eb",
            "d76b87d495a341bfa4480b0ef75a9930",
            "e574da8800f34555ab427afac4507b4f",
            "25bdee43364b41518de6061250ba2a5a",
            "9db6af6b03254c98a76d7d4c9541a30a"
          ]
        },
        "outputId": "be177da3-4cf2-40a3-8538-63f64e9fac65"
      },
      "execution_count": null,
      "outputs": [
        {
          "output_type": "stream",
          "name": "stdout",
          "text": [
            "Downloading http://ai.stanford.edu/~acoates/stl10/stl10_binary.tar.gz to /content/stl10_binary.tar.gz\n"
          ]
        },
        {
          "output_type": "display_data",
          "data": {
            "text/plain": [
              "  0%|          | 0/2640397119 [00:00<?, ?it/s]"
            ],
            "application/vnd.jupyter.widget-view+json": {
              "version_major": 2,
              "version_minor": 0,
              "model_id": "7b8850c9c89640e0b345e13cb9620005"
            }
          },
          "metadata": {}
        },
        {
          "output_type": "stream",
          "name": "stdout",
          "text": [
            "Extracting /content/stl10_binary.tar.gz to /content\n"
          ]
        }
      ]
    },
    {
      "cell_type": "code",
      "source": [
        "from google.colab import drive\n",
        "drive.mount('/content/drive')"
      ],
      "metadata": {
        "colab": {
          "base_uri": "https://localhost:8080/"
        },
        "id": "N-DBtorrnzYY",
        "outputId": "204244be-dc6d-4f99-e9d8-9b11cd86ac93"
      },
      "execution_count": null,
      "outputs": [
        {
          "output_type": "stream",
          "name": "stdout",
          "text": [
            "Mounted at /content/drive\n"
          ]
        }
      ]
    },
    {
      "cell_type": "markdown",
      "source": [
        "Dataloaders Initialization"
      ],
      "metadata": {
        "id": "D-fkY9L-oJ3Q"
      }
    },
    {
      "cell_type": "code",
      "source": [
        "trainloader, testloader = torch.utils.data.DataLoader(trainset, batch_size=1,shuffle=False), torch.utils.data.DataLoader(testset, batch_size=1,shuffle=False)\n"
      ],
      "metadata": {
        "id": "6OmvAz4XRn_c"
      },
      "execution_count": null,
      "outputs": []
    },
    {
      "cell_type": "markdown",
      "source": [
        "DataLoaders Testing "
      ],
      "metadata": {
        "id": "skVLvQ_KoN6e"
      }
    },
    {
      "cell_type": "code",
      "source": [
        "classes = list()\n",
        "import matplotlib\n",
        "class_present = ['airplane','bird','car','cat','deer','dog','horse','monkey','ship','truck']\n",
        "\n",
        "for i in class_present:\n",
        "  classes.append(i)\n",
        "\n",
        "def imshow(img):\n",
        "     num = 0.5\n",
        "     temp = 2\n",
        "     one =1\n",
        "     zero, two = 0,2\n",
        "     img = img / temp + num\n",
        "     npimg = img.numpy()\n",
        "     matplotlib.pyplot.imshow(np.transpose(npimg, (one, temp, zero)))\n",
        "     matplotlib.pyplot.show()\n",
        "\n",
        "dataiter = iter(testloader)\n",
        "images, labels = next(dataiter)   \n",
        "imshow(torchvision.utils.make_grid(images))\n",
        "one = 1\n",
        "print(' '.join('%5s' % classes[labels[j]] for j in range(one)))"
      ],
      "metadata": {
        "colab": {
          "base_uri": "https://localhost:8080/",
          "height": 287
        },
        "id": "X4LV2mj5Rx4b",
        "outputId": "4618bc28-7d0a-4231-d923-1ce7f957ebaa"
      },
      "execution_count": null,
      "outputs": [
        {
          "output_type": "display_data",
          "data": {
            "text/plain": [
              "<Figure size 432x288 with 1 Axes>"
            ],
            "image/png": "[encoded data removed]"
          },
          "metadata": {
            "needs_background": "light"
          }
        },
        {
          "output_type": "stream",
          "name": "stdout",
          "text": [
            "horse\n"
          ]
        }
      ]
    },
    {
      "cell_type": "markdown",
      "source": [
        "Training Dataset Creation to feed that data into SVM Classifier"
      ],
      "metadata": {
        "id": "HI5BXzy6ogQC"
      }
    },
    {
      "cell_type": "code",
      "source": [
        "x_train, y_train = list(), list()"
      ],
      "metadata": {
        "id": "Si5KDktTJlZX"
      },
      "execution_count": null,
      "outputs": []
    },
    {
      "cell_type": "markdown",
      "source": [
        "Shifting our Data to GPU for Faster computations"
      ],
      "metadata": {
        "id": "Vrsh5buSocIA"
      }
    },
    {
      "cell_type": "code",
      "source": [
        "if torch.cuda.is_available():\n",
        "  device = 'cuda'\n",
        "else:\n",
        "  device = 'cpu'\n",
        "\n",
        "# device = 'cuda' if torch.cuda.is_available() else 'cpu'\n",
        "if torch.cuda.is_available():\n",
        "    newmodel.to('cuda')"
      ],
      "metadata": {
        "id": "WYUV6Q-GpVpg"
      },
      "execution_count": null,
      "outputs": []
    },
    {
      "cell_type": "markdown",
      "source": [
        "Here features are extracted from the training set and stored in x_train"
      ],
      "metadata": {
        "id": "V2bqLFUrok5D"
      }
    },
    {
      "cell_type": "code",
      "source": [
        "range_num = 1\n",
        "for i in range(range_num):\n",
        "  with torch.no_grad():\n",
        "    for data ,label in trainloader:\n",
        "      data = data.to(device)\n",
        "      output = newmodel(data)\n",
        "      np_arr, np_arrlabel = output.cpu().detach().numpy(), label.cpu().detach().numpy()\n",
        "      x_train.append(np_arr)\n",
        "      y_train.append(np_arrlabel)"
      ],
      "metadata": {
        "id": "GseIpMAjI9VF"
      },
      "execution_count": null,
      "outputs": []
    },
    {
      "cell_type": "code",
      "source": [
        "x_train = np.array(x_train)"
      ],
      "metadata": {
        "id": "K1UrcKQASvPJ"
      },
      "execution_count": null,
      "outputs": []
    },
    {
      "cell_type": "code",
      "source": [
        "X_trainv2 = list()\n",
        "\n",
        "for i in range(5000):\n",
        "  x = x_train[i]\n",
        "  x = np.ravel(x)\n",
        "  X_trainv2.append(x)"
      ],
      "metadata": {
        "id": "VVspORq3t1dj"
      },
      "execution_count": null,
      "outputs": []
    },
    {
      "cell_type": "code",
      "source": [
        "X_trainv2, y_train = np.array(X_trainv2), np.array(y_train)"
      ],
      "metadata": {
        "id": "PJ8MVc5Qupi6"
      },
      "execution_count": null,
      "outputs": []
    },
    {
      "cell_type": "markdown",
      "source": [
        "Here features are extracted from the training set and stored in x_test"
      ],
      "metadata": {
        "id": "-j6wJarzosSG"
      }
    },
    {
      "cell_type": "code",
      "source": [
        "x_test, y_test = list(), list()\n",
        "\n",
        "for i in range(1):\n",
        "  with torch.no_grad():\n",
        "    for data ,label in testloader:\n",
        "      data = data.to(device)\n",
        "      output = newmodel(data)\n",
        "      np_arr,np_arrlabel  = output.cpu().detach().numpy(), label.cpu().detach().numpy()\n",
        "      x_test.append(np_arr)\n",
        "      y_test.append(np_arrlabel)\n"
      ],
      "metadata": {
        "id": "yW27YYH5vnJ7"
      },
      "execution_count": null,
      "outputs": []
    },
    {
      "cell_type": "code",
      "source": [
        "X_test = list()\n",
        "\n",
        "for i in range(8000):\n",
        "  x = x_test[i]\n",
        "  x = np.ravel(x)\n",
        "  X_test.append(x)\n",
        "\n",
        "X_test, y_test = np.array(X_test), np.array(y_test)"
      ],
      "metadata": {
        "id": "J2z2DVG_1Fny"
      },
      "execution_count": null,
      "outputs": []
    },
    {
      "cell_type": "markdown",
      "source": [
        "SVM is created and optimized for tuning efficiency and trained on features extracted from the trainset"
      ],
      "metadata": {
        "id": "0MIB8KF7ozbw"
      }
    },
    {
      "cell_type": "markdown",
      "source": [
        "Apply grid search cross validation for finding the best set of parameters through defining parameter range\n"
      ],
      "metadata": {
        "id": "STdsOuPy5QJP"
      }
    },
    {
      "cell_type": "code",
      "source": [
        "import numpy as np\n",
        "from sklearn.model_selection import GridSearchCV\n",
        "from sklearn.svm import SVC\n",
        "\n",
        "l1 = [0.1, 1, 10, 100]\n",
        "l2 = [1, 0.1, 0.01, 0.001]\n",
        "l3 = ['poly']\n",
        "# defining parameter range\n",
        "param_grid = {'C': l1,\n",
        "              'gamma': l2,\n",
        "              'kernel': l3}\n",
        "\n",
        "# apply grid search cross validation for finding the best set of parameters\n",
        "three = 3\n",
        "grid = GridSearchCV(SVC(), param_grid, refit = True, verbose = three)\n",
        "grid.fit(X_trainv2, y_train)"
      ],
      "metadata": {
        "id": "36LmBVP0KEUQ",
        "colab": {
          "base_uri": "https://localhost:8080/"
        },
        "outputId": "ec687b89-5747-46ee-88bb-f8985750096a"
      },
      "execution_count": null,
      "outputs": [
        {
          "output_type": "stream",
          "name": "stdout",
          "text": [
            "Fitting 5 folds for each of 16 candidates, totalling 80 fits\n"
          ]
        },
        {
          "output_type": "stream",
          "name": "stderr",
          "text": [
            "/usr/local/lib/python3.8/dist-packages/sklearn/utils/validation.py:993: DataConversionWarning: A column-vector y was passed when a 1d array was expected. Please change the shape of y to (n_samples, ), for example using ravel().\n",
            "  y = column_or_1d(y, warn=True)\n"
          ]
        },
        {
          "output_type": "stream",
          "name": "stdout",
          "text": [
            "[CV 1/5] END .......C=0.1, gamma=1, kernel=poly;, score=0.834 total time=  12.8s\n"
          ]
        },
        {
          "output_type": "stream",
          "name": "stderr",
          "text": [
            "/usr/local/lib/python3.8/dist-packages/sklearn/utils/validation.py:993: DataConversionWarning: A column-vector y was passed when a 1d array was expected. Please change the shape of y to (n_samples, ), for example using ravel().\n",
            "  y = column_or_1d(y, warn=True)\n"
          ]
        },
        {
          "output_type": "stream",
          "name": "stdout",
          "text": [
            "[CV 2/5] END .......C=0.1, gamma=1, kernel=poly;, score=0.839 total time=  12.2s\n"
          ]
        },
        {
          "output_type": "stream",
          "name": "stderr",
          "text": [
            "/usr/local/lib/python3.8/dist-packages/sklearn/utils/validation.py:993: DataConversionWarning: A column-vector y was passed when a 1d array was expected. Please change the shape of y to (n_samples, ), for example using ravel().\n",
            "  y = column_or_1d(y, warn=True)\n"
          ]
        },
        {
          "output_type": "stream",
          "name": "stdout",
          "text": [
            "[CV 3/5] END .......C=0.1, gamma=1, kernel=poly;, score=0.825 total time=  12.0s\n"
          ]
        },
        {
          "output_type": "stream",
          "name": "stderr",
          "text": [
            "/usr/local/lib/python3.8/dist-packages/sklearn/utils/validation.py:993: DataConversionWarning: A column-vector y was passed when a 1d array was expected. Please change the shape of y to (n_samples, ), for example using ravel().\n",
            "  y = column_or_1d(y, warn=True)\n"
          ]
        },
        {
          "output_type": "stream",
          "name": "stdout",
          "text": [
            "[CV 4/5] END .......C=0.1, gamma=1, kernel=poly;, score=0.852 total time=  12.2s\n"
          ]
        },
        {
          "output_type": "stream",
          "name": "stderr",
          "text": [
            "/usr/local/lib/python3.8/dist-packages/sklearn/utils/validation.py:993: DataConversionWarning: A column-vector y was passed when a 1d array was expected. Please change the shape of y to (n_samples, ), for example using ravel().\n",
            "  y = column_or_1d(y, warn=True)\n"
          ]
        },
        {
          "output_type": "stream",
          "name": "stdout",
          "text": [
            "[CV 5/5] END .......C=0.1, gamma=1, kernel=poly;, score=0.814 total time=  12.1s\n"
          ]
        },
        {
          "output_type": "stream",
          "name": "stderr",
          "text": [
            "/usr/local/lib/python3.8/dist-packages/sklearn/utils/validation.py:993: DataConversionWarning: A column-vector y was passed when a 1d array was expected. Please change the shape of y to (n_samples, ), for example using ravel().\n",
            "  y = column_or_1d(y, warn=True)\n"
          ]
        },
        {
          "output_type": "stream",
          "name": "stdout",
          "text": [
            "[CV 1/5] END .....C=0.1, gamma=0.1, kernel=poly;, score=0.834 total time=  12.4s\n"
          ]
        },
        {
          "output_type": "stream",
          "name": "stderr",
          "text": [
            "/usr/local/lib/python3.8/dist-packages/sklearn/utils/validation.py:993: DataConversionWarning: A column-vector y was passed when a 1d array was expected. Please change the shape of y to (n_samples, ), for example using ravel().\n",
            "  y = column_or_1d(y, warn=True)\n"
          ]
        },
        {
          "output_type": "stream",
          "name": "stdout",
          "text": [
            "[CV 2/5] END .....C=0.1, gamma=0.1, kernel=poly;, score=0.839 total time=  12.3s\n"
          ]
        },
        {
          "output_type": "stream",
          "name": "stderr",
          "text": [
            "/usr/local/lib/python3.8/dist-packages/sklearn/utils/validation.py:993: DataConversionWarning: A column-vector y was passed when a 1d array was expected. Please change the shape of y to (n_samples, ), for example using ravel().\n",
            "  y = column_or_1d(y, warn=True)\n"
          ]
        },
        {
          "output_type": "stream",
          "name": "stdout",
          "text": [
            "[CV 3/5] END .....C=0.1, gamma=0.1, kernel=poly;, score=0.826 total time=  12.0s\n"
          ]
        },
        {
          "output_type": "stream",
          "name": "stderr",
          "text": [
            "/usr/local/lib/python3.8/dist-packages/sklearn/utils/validation.py:993: DataConversionWarning: A column-vector y was passed when a 1d array was expected. Please change the shape of y to (n_samples, ), for example using ravel().\n",
            "  y = column_or_1d(y, warn=True)\n"
          ]
        },
        {
          "output_type": "stream",
          "name": "stdout",
          "text": [
            "[CV 4/5] END .....C=0.1, gamma=0.1, kernel=poly;, score=0.852 total time=  12.1s\n"
          ]
        },
        {
          "output_type": "stream",
          "name": "stderr",
          "text": [
            "/usr/local/lib/python3.8/dist-packages/sklearn/utils/validation.py:993: DataConversionWarning: A column-vector y was passed when a 1d array was expected. Please change the shape of y to (n_samples, ), for example using ravel().\n",
            "  y = column_or_1d(y, warn=True)\n"
          ]
        },
        {
          "output_type": "stream",
          "name": "stdout",
          "text": [
            "[CV 5/5] END .....C=0.1, gamma=0.1, kernel=poly;, score=0.814 total time=  12.3s\n"
          ]
        },
        {
          "output_type": "stream",
          "name": "stderr",
          "text": [
            "/usr/local/lib/python3.8/dist-packages/sklearn/utils/validation.py:993: DataConversionWarning: A column-vector y was passed when a 1d array was expected. Please change the shape of y to (n_samples, ), for example using ravel().\n",
            "  y = column_or_1d(y, warn=True)\n"
          ]
        },
        {
          "output_type": "stream",
          "name": "stdout",
          "text": [
            "[CV 1/5] END ....C=0.1, gamma=0.01, kernel=poly;, score=0.812 total time=  16.9s\n"
          ]
        },
        {
          "output_type": "stream",
          "name": "stderr",
          "text": [
            "/usr/local/lib/python3.8/dist-packages/sklearn/utils/validation.py:993: DataConversionWarning: A column-vector y was passed when a 1d array was expected. Please change the shape of y to (n_samples, ), for example using ravel().\n",
            "  y = column_or_1d(y, warn=True)\n"
          ]
        },
        {
          "output_type": "stream",
          "name": "stdout",
          "text": [
            "[CV 2/5] END ....C=0.1, gamma=0.01, kernel=poly;, score=0.831 total time=  17.0s\n"
          ]
        },
        {
          "output_type": "stream",
          "name": "stderr",
          "text": [
            "/usr/local/lib/python3.8/dist-packages/sklearn/utils/validation.py:993: DataConversionWarning: A column-vector y was passed when a 1d array was expected. Please change the shape of y to (n_samples, ), for example using ravel().\n",
            "  y = column_or_1d(y, warn=True)\n"
          ]
        },
        {
          "output_type": "stream",
          "name": "stdout",
          "text": [
            "[CV 3/5] END ....C=0.1, gamma=0.01, kernel=poly;, score=0.808 total time=  16.6s\n"
          ]
        },
        {
          "output_type": "stream",
          "name": "stderr",
          "text": [
            "/usr/local/lib/python3.8/dist-packages/sklearn/utils/validation.py:993: DataConversionWarning: A column-vector y was passed when a 1d array was expected. Please change the shape of y to (n_samples, ), for example using ravel().\n",
            "  y = column_or_1d(y, warn=True)\n"
          ]
        },
        {
          "output_type": "stream",
          "name": "stdout",
          "text": [
            "[CV 4/5] END ....C=0.1, gamma=0.01, kernel=poly;, score=0.821 total time=  16.9s\n"
          ]
        },
        {
          "output_type": "stream",
          "name": "stderr",
          "text": [
            "/usr/local/lib/python3.8/dist-packages/sklearn/utils/validation.py:993: DataConversionWarning: A column-vector y was passed when a 1d array was expected. Please change the shape of y to (n_samples, ), for example using ravel().\n",
            "  y = column_or_1d(y, warn=True)\n"
          ]
        },
        {
          "output_type": "stream",
          "name": "stdout",
          "text": [
            "[CV 5/5] END ....C=0.1, gamma=0.01, kernel=poly;, score=0.801 total time=  17.0s\n"
          ]
        },
        {
          "output_type": "stream",
          "name": "stderr",
          "text": [
            "/usr/local/lib/python3.8/dist-packages/sklearn/utils/validation.py:993: DataConversionWarning: A column-vector y was passed when a 1d array was expected. Please change the shape of y to (n_samples, ), for example using ravel().\n",
            "  y = column_or_1d(y, warn=True)\n"
          ]
        },
        {
          "output_type": "stream",
          "name": "stdout",
          "text": [
            "[CV 1/5] END ...C=0.1, gamma=0.001, kernel=poly;, score=0.677 total time=  25.6s\n"
          ]
        },
        {
          "output_type": "stream",
          "name": "stderr",
          "text": [
            "/usr/local/lib/python3.8/dist-packages/sklearn/utils/validation.py:993: DataConversionWarning: A column-vector y was passed when a 1d array was expected. Please change the shape of y to (n_samples, ), for example using ravel().\n",
            "  y = column_or_1d(y, warn=True)\n"
          ]
        },
        {
          "output_type": "stream",
          "name": "stdout",
          "text": [
            "[CV 2/5] END ...C=0.1, gamma=0.001, kernel=poly;, score=0.675 total time=  26.4s\n"
          ]
        },
        {
          "output_type": "stream",
          "name": "stderr",
          "text": [
            "/usr/local/lib/python3.8/dist-packages/sklearn/utils/validation.py:993: DataConversionWarning: A column-vector y was passed when a 1d array was expected. Please change the shape of y to (n_samples, ), for example using ravel().\n",
            "  y = column_or_1d(y, warn=True)\n"
          ]
        },
        {
          "output_type": "stream",
          "name": "stdout",
          "text": [
            "[CV 3/5] END ...C=0.1, gamma=0.001, kernel=poly;, score=0.661 total time=  25.6s\n"
          ]
        },
        {
          "output_type": "stream",
          "name": "stderr",
          "text": [
            "/usr/local/lib/python3.8/dist-packages/sklearn/utils/validation.py:993: DataConversionWarning: A column-vector y was passed when a 1d array was expected. Please change the shape of y to (n_samples, ), for example using ravel().\n",
            "  y = column_or_1d(y, warn=True)\n"
          ]
        },
        {
          "output_type": "stream",
          "name": "stdout",
          "text": [
            "[CV 4/5] END ...C=0.1, gamma=0.001, kernel=poly;, score=0.666 total time=  25.6s\n"
          ]
        },
        {
          "output_type": "stream",
          "name": "stderr",
          "text": [
            "/usr/local/lib/python3.8/dist-packages/sklearn/utils/validation.py:993: DataConversionWarning: A column-vector y was passed when a 1d array was expected. Please change the shape of y to (n_samples, ), for example using ravel().\n",
            "  y = column_or_1d(y, warn=True)\n"
          ]
        },
        {
          "output_type": "stream",
          "name": "stdout",
          "text": [
            "[CV 5/5] END ...C=0.1, gamma=0.001, kernel=poly;, score=0.672 total time=  25.5s\n"
          ]
        },
        {
          "output_type": "stream",
          "name": "stderr",
          "text": [
            "/usr/local/lib/python3.8/dist-packages/sklearn/utils/validation.py:993: DataConversionWarning: A column-vector y was passed when a 1d array was expected. Please change the shape of y to (n_samples, ), for example using ravel().\n",
            "  y = column_or_1d(y, warn=True)\n"
          ]
        },
        {
          "output_type": "stream",
          "name": "stdout",
          "text": [
            "[CV 1/5] END .........C=1, gamma=1, kernel=poly;, score=0.834 total time=  12.4s\n"
          ]
        },
        {
          "output_type": "stream",
          "name": "stderr",
          "text": [
            "/usr/local/lib/python3.8/dist-packages/sklearn/utils/validation.py:993: DataConversionWarning: A column-vector y was passed when a 1d array was expected. Please change the shape of y to (n_samples, ), for example using ravel().\n",
            "  y = column_or_1d(y, warn=True)\n"
          ]
        },
        {
          "output_type": "stream",
          "name": "stdout",
          "text": [
            "[CV 2/5] END .........C=1, gamma=1, kernel=poly;, score=0.839 total time=  12.2s\n"
          ]
        },
        {
          "output_type": "stream",
          "name": "stderr",
          "text": [
            "/usr/local/lib/python3.8/dist-packages/sklearn/utils/validation.py:993: DataConversionWarning: A column-vector y was passed when a 1d array was expected. Please change the shape of y to (n_samples, ), for example using ravel().\n",
            "  y = column_or_1d(y, warn=True)\n"
          ]
        },
        {
          "output_type": "stream",
          "name": "stdout",
          "text": [
            "[CV 3/5] END .........C=1, gamma=1, kernel=poly;, score=0.825 total time=  11.9s\n"
          ]
        },
        {
          "output_type": "stream",
          "name": "stderr",
          "text": [
            "/usr/local/lib/python3.8/dist-packages/sklearn/utils/validation.py:993: DataConversionWarning: A column-vector y was passed when a 1d array was expected. Please change the shape of y to (n_samples, ), for example using ravel().\n",
            "  y = column_or_1d(y, warn=True)\n"
          ]
        },
        {
          "output_type": "stream",
          "name": "stdout",
          "text": [
            "[CV 4/5] END .........C=1, gamma=1, kernel=poly;, score=0.852 total time=  12.2s\n"
          ]
        },
        {
          "output_type": "stream",
          "name": "stderr",
          "text": [
            "/usr/local/lib/python3.8/dist-packages/sklearn/utils/validation.py:993: DataConversionWarning: A column-vector y was passed when a 1d array was expected. Please change the shape of y to (n_samples, ), for example using ravel().\n",
            "  y = column_or_1d(y, warn=True)\n"
          ]
        },
        {
          "output_type": "stream",
          "name": "stdout",
          "text": [
            "[CV 5/5] END .........C=1, gamma=1, kernel=poly;, score=0.814 total time=  12.3s\n"
          ]
        },
        {
          "output_type": "stream",
          "name": "stderr",
          "text": [
            "/usr/local/lib/python3.8/dist-packages/sklearn/utils/validation.py:993: DataConversionWarning: A column-vector y was passed when a 1d array was expected. Please change the shape of y to (n_samples, ), for example using ravel().\n",
            "  y = column_or_1d(y, warn=True)\n"
          ]
        },
        {
          "output_type": "stream",
          "name": "stdout",
          "text": [
            "[CV 1/5] END .......C=1, gamma=0.1, kernel=poly;, score=0.834 total time=  12.2s\n"
          ]
        },
        {
          "output_type": "stream",
          "name": "stderr",
          "text": [
            "/usr/local/lib/python3.8/dist-packages/sklearn/utils/validation.py:993: DataConversionWarning: A column-vector y was passed when a 1d array was expected. Please change the shape of y to (n_samples, ), for example using ravel().\n",
            "  y = column_or_1d(y, warn=True)\n"
          ]
        },
        {
          "output_type": "stream",
          "name": "stdout",
          "text": [
            "[CV 2/5] END .......C=1, gamma=0.1, kernel=poly;, score=0.839 total time=  12.3s\n"
          ]
        },
        {
          "output_type": "stream",
          "name": "stderr",
          "text": [
            "/usr/local/lib/python3.8/dist-packages/sklearn/utils/validation.py:993: DataConversionWarning: A column-vector y was passed when a 1d array was expected. Please change the shape of y to (n_samples, ), for example using ravel().\n",
            "  y = column_or_1d(y, warn=True)\n"
          ]
        },
        {
          "output_type": "stream",
          "name": "stdout",
          "text": [
            "[CV 3/5] END .......C=1, gamma=0.1, kernel=poly;, score=0.826 total time=  11.9s\n"
          ]
        },
        {
          "output_type": "stream",
          "name": "stderr",
          "text": [
            "/usr/local/lib/python3.8/dist-packages/sklearn/utils/validation.py:993: DataConversionWarning: A column-vector y was passed when a 1d array was expected. Please change the shape of y to (n_samples, ), for example using ravel().\n",
            "  y = column_or_1d(y, warn=True)\n"
          ]
        },
        {
          "output_type": "stream",
          "name": "stdout",
          "text": [
            "[CV 4/5] END .......C=1, gamma=0.1, kernel=poly;, score=0.852 total time=  12.2s\n"
          ]
        },
        {
          "output_type": "stream",
          "name": "stderr",
          "text": [
            "/usr/local/lib/python3.8/dist-packages/sklearn/utils/validation.py:993: DataConversionWarning: A column-vector y was passed when a 1d array was expected. Please change the shape of y to (n_samples, ), for example using ravel().\n",
            "  y = column_or_1d(y, warn=True)\n"
          ]
        },
        {
          "output_type": "stream",
          "name": "stdout",
          "text": [
            "[CV 5/5] END .......C=1, gamma=0.1, kernel=poly;, score=0.814 total time=  12.4s\n"
          ]
        },
        {
          "output_type": "stream",
          "name": "stderr",
          "text": [
            "/usr/local/lib/python3.8/dist-packages/sklearn/utils/validation.py:993: DataConversionWarning: A column-vector y was passed when a 1d array was expected. Please change the shape of y to (n_samples, ), for example using ravel().\n",
            "  y = column_or_1d(y, warn=True)\n"
          ]
        },
        {
          "output_type": "stream",
          "name": "stdout",
          "text": [
            "[CV 1/5] END ......C=1, gamma=0.01, kernel=poly;, score=0.841 total time=  11.4s\n"
          ]
        },
        {
          "output_type": "stream",
          "name": "stderr",
          "text": [
            "/usr/local/lib/python3.8/dist-packages/sklearn/utils/validation.py:993: DataConversionWarning: A column-vector y was passed when a 1d array was expected. Please change the shape of y to (n_samples, ), for example using ravel().\n",
            "  y = column_or_1d(y, warn=True)\n"
          ]
        },
        {
          "output_type": "stream",
          "name": "stdout",
          "text": [
            "[CV 2/5] END ......C=1, gamma=0.01, kernel=poly;, score=0.850 total time=  11.5s\n"
          ]
        },
        {
          "output_type": "stream",
          "name": "stderr",
          "text": [
            "/usr/local/lib/python3.8/dist-packages/sklearn/utils/validation.py:993: DataConversionWarning: A column-vector y was passed when a 1d array was expected. Please change the shape of y to (n_samples, ), for example using ravel().\n",
            "  y = column_or_1d(y, warn=True)\n"
          ]
        },
        {
          "output_type": "stream",
          "name": "stdout",
          "text": [
            "[CV 3/5] END ......C=1, gamma=0.01, kernel=poly;, score=0.832 total time=  11.5s\n"
          ]
        },
        {
          "output_type": "stream",
          "name": "stderr",
          "text": [
            "/usr/local/lib/python3.8/dist-packages/sklearn/utils/validation.py:993: DataConversionWarning: A column-vector y was passed when a 1d array was expected. Please change the shape of y to (n_samples, ), for example using ravel().\n",
            "  y = column_or_1d(y, warn=True)\n"
          ]
        },
        {
          "output_type": "stream",
          "name": "stdout",
          "text": [
            "[CV 4/5] END ......C=1, gamma=0.01, kernel=poly;, score=0.857 total time=  11.5s\n"
          ]
        },
        {
          "output_type": "stream",
          "name": "stderr",
          "text": [
            "/usr/local/lib/python3.8/dist-packages/sklearn/utils/validation.py:993: DataConversionWarning: A column-vector y was passed when a 1d array was expected. Please change the shape of y to (n_samples, ), for example using ravel().\n",
            "  y = column_or_1d(y, warn=True)\n"
          ]
        },
        {
          "output_type": "stream",
          "name": "stdout",
          "text": [
            "[CV 5/5] END ......C=1, gamma=0.01, kernel=poly;, score=0.823 total time=  11.6s\n"
          ]
        },
        {
          "output_type": "stream",
          "name": "stderr",
          "text": [
            "/usr/local/lib/python3.8/dist-packages/sklearn/utils/validation.py:993: DataConversionWarning: A column-vector y was passed when a 1d array was expected. Please change the shape of y to (n_samples, ), for example using ravel().\n",
            "  y = column_or_1d(y, warn=True)\n"
          ]
        },
        {
          "output_type": "stream",
          "name": "stdout",
          "text": [
            "[CV 1/5] END .....C=1, gamma=0.001, kernel=poly;, score=0.677 total time=  25.3s\n"
          ]
        },
        {
          "output_type": "stream",
          "name": "stderr",
          "text": [
            "/usr/local/lib/python3.8/dist-packages/sklearn/utils/validation.py:993: DataConversionWarning: A column-vector y was passed when a 1d array was expected. Please change the shape of y to (n_samples, ), for example using ravel().\n",
            "  y = column_or_1d(y, warn=True)\n"
          ]
        },
        {
          "output_type": "stream",
          "name": "stdout",
          "text": [
            "[CV 2/5] END .....C=1, gamma=0.001, kernel=poly;, score=0.675 total time=  26.7s\n"
          ]
        },
        {
          "output_type": "stream",
          "name": "stderr",
          "text": [
            "/usr/local/lib/python3.8/dist-packages/sklearn/utils/validation.py:993: DataConversionWarning: A column-vector y was passed when a 1d array was expected. Please change the shape of y to (n_samples, ), for example using ravel().\n",
            "  y = column_or_1d(y, warn=True)\n"
          ]
        },
        {
          "output_type": "stream",
          "name": "stdout",
          "text": [
            "[CV 3/5] END .....C=1, gamma=0.001, kernel=poly;, score=0.661 total time=  25.3s\n"
          ]
        },
        {
          "output_type": "stream",
          "name": "stderr",
          "text": [
            "/usr/local/lib/python3.8/dist-packages/sklearn/utils/validation.py:993: DataConversionWarning: A column-vector y was passed when a 1d array was expected. Please change the shape of y to (n_samples, ), for example using ravel().\n",
            "  y = column_or_1d(y, warn=True)\n"
          ]
        },
        {
          "output_type": "stream",
          "name": "stdout",
          "text": [
            "[CV 4/5] END .....C=1, gamma=0.001, kernel=poly;, score=0.666 total time=  25.3s\n"
          ]
        },
        {
          "output_type": "stream",
          "name": "stderr",
          "text": [
            "/usr/local/lib/python3.8/dist-packages/sklearn/utils/validation.py:993: DataConversionWarning: A column-vector y was passed when a 1d array was expected. Please change the shape of y to (n_samples, ), for example using ravel().\n",
            "  y = column_or_1d(y, warn=True)\n"
          ]
        },
        {
          "output_type": "stream",
          "name": "stdout",
          "text": [
            "[CV 5/5] END .....C=1, gamma=0.001, kernel=poly;, score=0.672 total time=  25.5s\n"
          ]
        },
        {
          "output_type": "stream",
          "name": "stderr",
          "text": [
            "/usr/local/lib/python3.8/dist-packages/sklearn/utils/validation.py:993: DataConversionWarning: A column-vector y was passed when a 1d array was expected. Please change the shape of y to (n_samples, ), for example using ravel().\n",
            "  y = column_or_1d(y, warn=True)\n"
          ]
        },
        {
          "output_type": "stream",
          "name": "stdout",
          "text": [
            "[CV 1/5] END ........C=10, gamma=1, kernel=poly;, score=0.834 total time=  12.1s\n"
          ]
        },
        {
          "output_type": "stream",
          "name": "stderr",
          "text": [
            "/usr/local/lib/python3.8/dist-packages/sklearn/utils/validation.py:993: DataConversionWarning: A column-vector y was passed when a 1d array was expected. Please change the shape of y to (n_samples, ), for example using ravel().\n",
            "  y = column_or_1d(y, warn=True)\n"
          ]
        },
        {
          "output_type": "stream",
          "name": "stdout",
          "text": [
            "[CV 2/5] END ........C=10, gamma=1, kernel=poly;, score=0.839 total time=  12.1s\n"
          ]
        },
        {
          "output_type": "stream",
          "name": "stderr",
          "text": [
            "/usr/local/lib/python3.8/dist-packages/sklearn/utils/validation.py:993: DataConversionWarning: A column-vector y was passed when a 1d array was expected. Please change the shape of y to (n_samples, ), for example using ravel().\n",
            "  y = column_or_1d(y, warn=True)\n"
          ]
        },
        {
          "output_type": "stream",
          "name": "stdout",
          "text": [
            "[CV 3/5] END ........C=10, gamma=1, kernel=poly;, score=0.825 total time=  11.9s\n"
          ]
        },
        {
          "output_type": "stream",
          "name": "stderr",
          "text": [
            "/usr/local/lib/python3.8/dist-packages/sklearn/utils/validation.py:993: DataConversionWarning: A column-vector y was passed when a 1d array was expected. Please change the shape of y to (n_samples, ), for example using ravel().\n",
            "  y = column_or_1d(y, warn=True)\n"
          ]
        },
        {
          "output_type": "stream",
          "name": "stdout",
          "text": [
            "[CV 4/5] END ........C=10, gamma=1, kernel=poly;, score=0.852 total time=  12.1s\n"
          ]
        },
        {
          "output_type": "stream",
          "name": "stderr",
          "text": [
            "/usr/local/lib/python3.8/dist-packages/sklearn/utils/validation.py:993: DataConversionWarning: A column-vector y was passed when a 1d array was expected. Please change the shape of y to (n_samples, ), for example using ravel().\n",
            "  y = column_or_1d(y, warn=True)\n"
          ]
        },
        {
          "output_type": "stream",
          "name": "stdout",
          "text": [
            "[CV 5/5] END ........C=10, gamma=1, kernel=poly;, score=0.814 total time=  12.2s\n"
          ]
        },
        {
          "output_type": "stream",
          "name": "stderr",
          "text": [
            "/usr/local/lib/python3.8/dist-packages/sklearn/utils/validation.py:993: DataConversionWarning: A column-vector y was passed when a 1d array was expected. Please change the shape of y to (n_samples, ), for example using ravel().\n",
            "  y = column_or_1d(y, warn=True)\n"
          ]
        },
        {
          "output_type": "stream",
          "name": "stdout",
          "text": [
            "[CV 1/5] END ......C=10, gamma=0.1, kernel=poly;, score=0.834 total time=  12.1s\n"
          ]
        },
        {
          "output_type": "stream",
          "name": "stderr",
          "text": [
            "/usr/local/lib/python3.8/dist-packages/sklearn/utils/validation.py:993: DataConversionWarning: A column-vector y was passed when a 1d array was expected. Please change the shape of y to (n_samples, ), for example using ravel().\n",
            "  y = column_or_1d(y, warn=True)\n"
          ]
        },
        {
          "output_type": "stream",
          "name": "stdout",
          "text": [
            "[CV 2/5] END ......C=10, gamma=0.1, kernel=poly;, score=0.839 total time=  12.1s\n"
          ]
        },
        {
          "output_type": "stream",
          "name": "stderr",
          "text": [
            "/usr/local/lib/python3.8/dist-packages/sklearn/utils/validation.py:993: DataConversionWarning: A column-vector y was passed when a 1d array was expected. Please change the shape of y to (n_samples, ), for example using ravel().\n",
            "  y = column_or_1d(y, warn=True)\n"
          ]
        },
        {
          "output_type": "stream",
          "name": "stdout",
          "text": [
            "[CV 3/5] END ......C=10, gamma=0.1, kernel=poly;, score=0.826 total time=  11.9s\n"
          ]
        },
        {
          "output_type": "stream",
          "name": "stderr",
          "text": [
            "/usr/local/lib/python3.8/dist-packages/sklearn/utils/validation.py:993: DataConversionWarning: A column-vector y was passed when a 1d array was expected. Please change the shape of y to (n_samples, ), for example using ravel().\n",
            "  y = column_or_1d(y, warn=True)\n"
          ]
        },
        {
          "output_type": "stream",
          "name": "stdout",
          "text": [
            "[CV 4/5] END ......C=10, gamma=0.1, kernel=poly;, score=0.852 total time=  11.9s\n"
          ]
        },
        {
          "output_type": "stream",
          "name": "stderr",
          "text": [
            "/usr/local/lib/python3.8/dist-packages/sklearn/utils/validation.py:993: DataConversionWarning: A column-vector y was passed when a 1d array was expected. Please change the shape of y to (n_samples, ), for example using ravel().\n",
            "  y = column_or_1d(y, warn=True)\n"
          ]
        },
        {
          "output_type": "stream",
          "name": "stdout",
          "text": [
            "[CV 5/5] END ......C=10, gamma=0.1, kernel=poly;, score=0.814 total time=  12.1s\n"
          ]
        },
        {
          "output_type": "stream",
          "name": "stderr",
          "text": [
            "/usr/local/lib/python3.8/dist-packages/sklearn/utils/validation.py:993: DataConversionWarning: A column-vector y was passed when a 1d array was expected. Please change the shape of y to (n_samples, ), for example using ravel().\n",
            "  y = column_or_1d(y, warn=True)\n"
          ]
        },
        {
          "output_type": "stream",
          "name": "stdout",
          "text": [
            "[CV 1/5] END .....C=10, gamma=0.01, kernel=poly;, score=0.835 total time=  12.1s\n"
          ]
        },
        {
          "output_type": "stream",
          "name": "stderr",
          "text": [
            "/usr/local/lib/python3.8/dist-packages/sklearn/utils/validation.py:993: DataConversionWarning: A column-vector y was passed when a 1d array was expected. Please change the shape of y to (n_samples, ), for example using ravel().\n",
            "  y = column_or_1d(y, warn=True)\n"
          ]
        },
        {
          "output_type": "stream",
          "name": "stdout",
          "text": [
            "[CV 2/5] END .....C=10, gamma=0.01, kernel=poly;, score=0.839 total time=  12.0s\n"
          ]
        },
        {
          "output_type": "stream",
          "name": "stderr",
          "text": [
            "/usr/local/lib/python3.8/dist-packages/sklearn/utils/validation.py:993: DataConversionWarning: A column-vector y was passed when a 1d array was expected. Please change the shape of y to (n_samples, ), for example using ravel().\n",
            "  y = column_or_1d(y, warn=True)\n"
          ]
        },
        {
          "output_type": "stream",
          "name": "stdout",
          "text": [
            "[CV 3/5] END .....C=10, gamma=0.01, kernel=poly;, score=0.825 total time=  11.8s\n"
          ]
        },
        {
          "output_type": "stream",
          "name": "stderr",
          "text": [
            "/usr/local/lib/python3.8/dist-packages/sklearn/utils/validation.py:993: DataConversionWarning: A column-vector y was passed when a 1d array was expected. Please change the shape of y to (n_samples, ), for example using ravel().\n",
            "  y = column_or_1d(y, warn=True)\n"
          ]
        },
        {
          "output_type": "stream",
          "name": "stdout",
          "text": [
            "[CV 4/5] END .....C=10, gamma=0.01, kernel=poly;, score=0.852 total time=  12.0s\n"
          ]
        },
        {
          "output_type": "stream",
          "name": "stderr",
          "text": [
            "/usr/local/lib/python3.8/dist-packages/sklearn/utils/validation.py:993: DataConversionWarning: A column-vector y was passed when a 1d array was expected. Please change the shape of y to (n_samples, ), for example using ravel().\n",
            "  y = column_or_1d(y, warn=True)\n"
          ]
        },
        {
          "output_type": "stream",
          "name": "stdout",
          "text": [
            "[CV 5/5] END .....C=10, gamma=0.01, kernel=poly;, score=0.814 total time=  12.1s\n"
          ]
        },
        {
          "output_type": "stream",
          "name": "stderr",
          "text": [
            "/usr/local/lib/python3.8/dist-packages/sklearn/utils/validation.py:993: DataConversionWarning: A column-vector y was passed when a 1d array was expected. Please change the shape of y to (n_samples, ), for example using ravel().\n",
            "  y = column_or_1d(y, warn=True)\n"
          ]
        },
        {
          "output_type": "stream",
          "name": "stdout",
          "text": [
            "[CV 1/5] END ....C=10, gamma=0.001, kernel=poly;, score=0.678 total time=  25.1s\n"
          ]
        },
        {
          "output_type": "stream",
          "name": "stderr",
          "text": [
            "/usr/local/lib/python3.8/dist-packages/sklearn/utils/validation.py:993: DataConversionWarning: A column-vector y was passed when a 1d array was expected. Please change the shape of y to (n_samples, ), for example using ravel().\n",
            "  y = column_or_1d(y, warn=True)\n"
          ]
        },
        {
          "output_type": "stream",
          "name": "stdout",
          "text": [
            "[CV 2/5] END ....C=10, gamma=0.001, kernel=poly;, score=0.675 total time=  26.3s\n"
          ]
        },
        {
          "output_type": "stream",
          "name": "stderr",
          "text": [
            "/usr/local/lib/python3.8/dist-packages/sklearn/utils/validation.py:993: DataConversionWarning: A column-vector y was passed when a 1d array was expected. Please change the shape of y to (n_samples, ), for example using ravel().\n",
            "  y = column_or_1d(y, warn=True)\n"
          ]
        },
        {
          "output_type": "stream",
          "name": "stdout",
          "text": [
            "[CV 3/5] END ....C=10, gamma=0.001, kernel=poly;, score=0.664 total time=  24.8s\n"
          ]
        },
        {
          "output_type": "stream",
          "name": "stderr",
          "text": [
            "/usr/local/lib/python3.8/dist-packages/sklearn/utils/validation.py:993: DataConversionWarning: A column-vector y was passed when a 1d array was expected. Please change the shape of y to (n_samples, ), for example using ravel().\n",
            "  y = column_or_1d(y, warn=True)\n"
          ]
        },
        {
          "output_type": "stream",
          "name": "stdout",
          "text": [
            "[CV 4/5] END ....C=10, gamma=0.001, kernel=poly;, score=0.667 total time=  25.2s\n"
          ]
        },
        {
          "output_type": "stream",
          "name": "stderr",
          "text": [
            "/usr/local/lib/python3.8/dist-packages/sklearn/utils/validation.py:993: DataConversionWarning: A column-vector y was passed when a 1d array was expected. Please change the shape of y to (n_samples, ), for example using ravel().\n",
            "  y = column_or_1d(y, warn=True)\n"
          ]
        },
        {
          "output_type": "stream",
          "name": "stdout",
          "text": [
            "[CV 5/5] END ....C=10, gamma=0.001, kernel=poly;, score=0.673 total time=  25.1s\n"
          ]
        },
        {
          "output_type": "stream",
          "name": "stderr",
          "text": [
            "/usr/local/lib/python3.8/dist-packages/sklearn/utils/validation.py:993: DataConversionWarning: A column-vector y was passed when a 1d array was expected. Please change the shape of y to (n_samples, ), for example using ravel().\n",
            "  y = column_or_1d(y, warn=True)\n"
          ]
        },
        {
          "output_type": "stream",
          "name": "stdout",
          "text": [
            "[CV 1/5] END .......C=100, gamma=1, kernel=poly;, score=0.834 total time=  12.0s\n"
          ]
        },
        {
          "output_type": "stream",
          "name": "stderr",
          "text": [
            "/usr/local/lib/python3.8/dist-packages/sklearn/utils/validation.py:993: DataConversionWarning: A column-vector y was passed when a 1d array was expected. Please change the shape of y to (n_samples, ), for example using ravel().\n",
            "  y = column_or_1d(y, warn=True)\n"
          ]
        },
        {
          "output_type": "stream",
          "name": "stdout",
          "text": [
            "[CV 2/5] END .......C=100, gamma=1, kernel=poly;, score=0.839 total time=  11.9s\n"
          ]
        },
        {
          "output_type": "stream",
          "name": "stderr",
          "text": [
            "/usr/local/lib/python3.8/dist-packages/sklearn/utils/validation.py:993: DataConversionWarning: A column-vector y was passed when a 1d array was expected. Please change the shape of y to (n_samples, ), for example using ravel().\n",
            "  y = column_or_1d(y, warn=True)\n"
          ]
        },
        {
          "output_type": "stream",
          "name": "stdout",
          "text": [
            "[CV 3/5] END .......C=100, gamma=1, kernel=poly;, score=0.825 total time=  11.8s\n"
          ]
        },
        {
          "output_type": "stream",
          "name": "stderr",
          "text": [
            "/usr/local/lib/python3.8/dist-packages/sklearn/utils/validation.py:993: DataConversionWarning: A column-vector y was passed when a 1d array was expected. Please change the shape of y to (n_samples, ), for example using ravel().\n",
            "  y = column_or_1d(y, warn=True)\n"
          ]
        },
        {
          "output_type": "stream",
          "name": "stdout",
          "text": [
            "[CV 4/5] END .......C=100, gamma=1, kernel=poly;, score=0.852 total time=  11.9s\n"
          ]
        },
        {
          "output_type": "stream",
          "name": "stderr",
          "text": [
            "/usr/local/lib/python3.8/dist-packages/sklearn/utils/validation.py:993: DataConversionWarning: A column-vector y was passed when a 1d array was expected. Please change the shape of y to (n_samples, ), for example using ravel().\n",
            "  y = column_or_1d(y, warn=True)\n"
          ]
        },
        {
          "output_type": "stream",
          "name": "stdout",
          "text": [
            "[CV 5/5] END .......C=100, gamma=1, kernel=poly;, score=0.814 total time=  12.0s\n"
          ]
        },
        {
          "output_type": "stream",
          "name": "stderr",
          "text": [
            "/usr/local/lib/python3.8/dist-packages/sklearn/utils/validation.py:993: DataConversionWarning: A column-vector y was passed when a 1d array was expected. Please change the shape of y to (n_samples, ), for example using ravel().\n",
            "  y = column_or_1d(y, warn=True)\n"
          ]
        },
        {
          "output_type": "stream",
          "name": "stdout",
          "text": [
            "[CV 1/5] END .....C=100, gamma=0.1, kernel=poly;, score=0.834 total time=  12.1s\n"
          ]
        },
        {
          "output_type": "stream",
          "name": "stderr",
          "text": [
            "/usr/local/lib/python3.8/dist-packages/sklearn/utils/validation.py:993: DataConversionWarning: A column-vector y was passed when a 1d array was expected. Please change the shape of y to (n_samples, ), for example using ravel().\n",
            "  y = column_or_1d(y, warn=True)\n"
          ]
        },
        {
          "output_type": "stream",
          "name": "stdout",
          "text": [
            "[CV 2/5] END .....C=100, gamma=0.1, kernel=poly;, score=0.839 total time=  12.1s\n"
          ]
        },
        {
          "output_type": "stream",
          "name": "stderr",
          "text": [
            "/usr/local/lib/python3.8/dist-packages/sklearn/utils/validation.py:993: DataConversionWarning: A column-vector y was passed when a 1d array was expected. Please change the shape of y to (n_samples, ), for example using ravel().\n",
            "  y = column_or_1d(y, warn=True)\n"
          ]
        },
        {
          "output_type": "stream",
          "name": "stdout",
          "text": [
            "[CV 3/5] END .....C=100, gamma=0.1, kernel=poly;, score=0.826 total time=  11.9s\n"
          ]
        },
        {
          "output_type": "stream",
          "name": "stderr",
          "text": [
            "/usr/local/lib/python3.8/dist-packages/sklearn/utils/validation.py:993: DataConversionWarning: A column-vector y was passed when a 1d array was expected. Please change the shape of y to (n_samples, ), for example using ravel().\n",
            "  y = column_or_1d(y, warn=True)\n"
          ]
        },
        {
          "output_type": "stream",
          "name": "stdout",
          "text": [
            "[CV 4/5] END .....C=100, gamma=0.1, kernel=poly;, score=0.852 total time=  12.1s\n"
          ]
        },
        {
          "output_type": "stream",
          "name": "stderr",
          "text": [
            "/usr/local/lib/python3.8/dist-packages/sklearn/utils/validation.py:993: DataConversionWarning: A column-vector y was passed when a 1d array was expected. Please change the shape of y to (n_samples, ), for example using ravel().\n",
            "  y = column_or_1d(y, warn=True)\n"
          ]
        },
        {
          "output_type": "stream",
          "name": "stdout",
          "text": [
            "[CV 5/5] END .....C=100, gamma=0.1, kernel=poly;, score=0.814 total time=  12.1s\n"
          ]
        },
        {
          "output_type": "stream",
          "name": "stderr",
          "text": [
            "/usr/local/lib/python3.8/dist-packages/sklearn/utils/validation.py:993: DataConversionWarning: A column-vector y was passed when a 1d array was expected. Please change the shape of y to (n_samples, ), for example using ravel().\n",
            "  y = column_or_1d(y, warn=True)\n"
          ]
        },
        {
          "output_type": "stream",
          "name": "stdout",
          "text": [
            "[CV 1/5] END ....C=100, gamma=0.01, kernel=poly;, score=0.835 total time=  12.0s\n"
          ]
        },
        {
          "output_type": "stream",
          "name": "stderr",
          "text": [
            "/usr/local/lib/python3.8/dist-packages/sklearn/utils/validation.py:993: DataConversionWarning: A column-vector y was passed when a 1d array was expected. Please change the shape of y to (n_samples, ), for example using ravel().\n",
            "  y = column_or_1d(y, warn=True)\n"
          ]
        },
        {
          "output_type": "stream",
          "name": "stdout",
          "text": [
            "[CV 2/5] END ....C=100, gamma=0.01, kernel=poly;, score=0.839 total time=  12.0s\n"
          ]
        },
        {
          "output_type": "stream",
          "name": "stderr",
          "text": [
            "/usr/local/lib/python3.8/dist-packages/sklearn/utils/validation.py:993: DataConversionWarning: A column-vector y was passed when a 1d array was expected. Please change the shape of y to (n_samples, ), for example using ravel().\n",
            "  y = column_or_1d(y, warn=True)\n"
          ]
        },
        {
          "output_type": "stream",
          "name": "stdout",
          "text": [
            "[CV 3/5] END ....C=100, gamma=0.01, kernel=poly;, score=0.825 total time=  11.9s\n"
          ]
        },
        {
          "output_type": "stream",
          "name": "stderr",
          "text": [
            "/usr/local/lib/python3.8/dist-packages/sklearn/utils/validation.py:993: DataConversionWarning: A column-vector y was passed when a 1d array was expected. Please change the shape of y to (n_samples, ), for example using ravel().\n",
            "  y = column_or_1d(y, warn=True)\n"
          ]
        },
        {
          "output_type": "stream",
          "name": "stdout",
          "text": [
            "[CV 4/5] END ....C=100, gamma=0.01, kernel=poly;, score=0.852 total time=  11.9s\n"
          ]
        },
        {
          "output_type": "stream",
          "name": "stderr",
          "text": [
            "/usr/local/lib/python3.8/dist-packages/sklearn/utils/validation.py:993: DataConversionWarning: A column-vector y was passed when a 1d array was expected. Please change the shape of y to (n_samples, ), for example using ravel().\n",
            "  y = column_or_1d(y, warn=True)\n"
          ]
        },
        {
          "output_type": "stream",
          "name": "stdout",
          "text": [
            "[CV 5/5] END ....C=100, gamma=0.01, kernel=poly;, score=0.814 total time=  11.8s\n"
          ]
        },
        {
          "output_type": "stream",
          "name": "stderr",
          "text": [
            "/usr/local/lib/python3.8/dist-packages/sklearn/utils/validation.py:993: DataConversionWarning: A column-vector y was passed when a 1d array was expected. Please change the shape of y to (n_samples, ), for example using ravel().\n",
            "  y = column_or_1d(y, warn=True)\n"
          ]
        },
        {
          "output_type": "stream",
          "name": "stdout",
          "text": [
            "[CV 1/5] END ...C=100, gamma=0.001, kernel=poly;, score=0.812 total time=  16.2s\n"
          ]
        },
        {
          "output_type": "stream",
          "name": "stderr",
          "text": [
            "/usr/local/lib/python3.8/dist-packages/sklearn/utils/validation.py:993: DataConversionWarning: A column-vector y was passed when a 1d array was expected. Please change the shape of y to (n_samples, ), for example using ravel().\n",
            "  y = column_or_1d(y, warn=True)\n"
          ]
        },
        {
          "output_type": "stream",
          "name": "stdout",
          "text": [
            "[CV 2/5] END ...C=100, gamma=0.001, kernel=poly;, score=0.831 total time=  16.3s\n"
          ]
        },
        {
          "output_type": "stream",
          "name": "stderr",
          "text": [
            "/usr/local/lib/python3.8/dist-packages/sklearn/utils/validation.py:993: DataConversionWarning: A column-vector y was passed when a 1d array was expected. Please change the shape of y to (n_samples, ), for example using ravel().\n",
            "  y = column_or_1d(y, warn=True)\n"
          ]
        },
        {
          "output_type": "stream",
          "name": "stdout",
          "text": [
            "[CV 3/5] END ...C=100, gamma=0.001, kernel=poly;, score=0.808 total time=  17.2s\n"
          ]
        },
        {
          "output_type": "stream",
          "name": "stderr",
          "text": [
            "/usr/local/lib/python3.8/dist-packages/sklearn/utils/validation.py:993: DataConversionWarning: A column-vector y was passed when a 1d array was expected. Please change the shape of y to (n_samples, ), for example using ravel().\n",
            "  y = column_or_1d(y, warn=True)\n"
          ]
        },
        {
          "output_type": "stream",
          "name": "stdout",
          "text": [
            "[CV 4/5] END ...C=100, gamma=0.001, kernel=poly;, score=0.821 total time=  16.2s\n"
          ]
        },
        {
          "output_type": "stream",
          "name": "stderr",
          "text": [
            "/usr/local/lib/python3.8/dist-packages/sklearn/utils/validation.py:993: DataConversionWarning: A column-vector y was passed when a 1d array was expected. Please change the shape of y to (n_samples, ), for example using ravel().\n",
            "  y = column_or_1d(y, warn=True)\n"
          ]
        },
        {
          "output_type": "stream",
          "name": "stdout",
          "text": [
            "[CV 5/5] END ...C=100, gamma=0.001, kernel=poly;, score=0.801 total time=  16.2s\n"
          ]
        },
        {
          "output_type": "stream",
          "name": "stderr",
          "text": [
            "/usr/local/lib/python3.8/dist-packages/sklearn/utils/validation.py:993: DataConversionWarning: A column-vector y was passed when a 1d array was expected. Please change the shape of y to (n_samples, ), for example using ravel().\n",
            "  y = column_or_1d(y, warn=True)\n"
          ]
        },
        {
          "output_type": "execute_result",
          "data": {
            "text/plain": [
              "GridSearchCV(estimator=SVC(),\n",
              "             param_grid={'C': [0.1, 1, 10, 100], 'gamma': [1, 0.1, 0.01, 0.001],\n",
              "                         'kernel': ['poly']},\n",
              "             verbose=3)"
            ]
          },
          "metadata": {},
          "execution_count": 17
        }
      ]
    },
    {
      "cell_type": "markdown",
      "source": [
        "Train SVM Model on best parameters. \n",
        "(SVM accuracy by applying bigram and Chi-square feature selection with 70% feature reduction increased 0.95% has an accuracy of 97.35%. SVM accuracy by applying unigram and Chi-square feature selection with 90% reduction features increased by 1.58% with the highest accuracy value 97.98%)"
      ],
      "metadata": {
        "id": "WStyDdbfAPdY"
      }
    },
    {
      "cell_type": "code",
      "source": [
        "from sklearn.svm import SVC\n",
        "gamma_param = 0.01\n",
        "C_param = 1\n",
        "clf2 = SVC(kernel='poly', C=C_param, gamma=gamma_param, probability=True).fit(X_trainv2,y_train)"
      ],
      "metadata": {
        "colab": {
          "base_uri": "https://localhost:8080/"
        },
        "id": "jn12SkI2Uawv",
        "outputId": "9577d2e5-8bd2-434c-df79-675f1dfc7f00"
      },
      "execution_count": null,
      "outputs": [
        {
          "output_type": "stream",
          "name": "stderr",
          "text": [
            "/usr/local/lib/python3.8/dist-packages/sklearn/utils/validation.py:993: DataConversionWarning: A column-vector y was passed when a 1d array was expected. Please change the shape of y to (n_samples, ), for example using ravel().\n",
            "  y = column_or_1d(y, warn=True)\n"
          ]
        }
      ]
    },
    {
      "cell_type": "markdown",
      "source": [
        "Code for finding the accuracy using code from Scratch"
      ],
      "metadata": {
        "id": "s0kEN5JrpDUn"
      }
    },
    {
      "cell_type": "code",
      "source": [
        "def accuracy(y_test, pred):\n",
        "  ans = 0\n",
        "  num = 1\n",
        "  for actual_value, predicted_value in zip(y_test, pred):\n",
        "    if(actual_value == predicted_value):\n",
        "      ans = ans+num\n",
        "  value, value1 = 8000, 100 \n",
        "  final = (ans/value)*value1 \n",
        "  return final"
      ],
      "metadata": {
        "id": "5PXrRR1RFuXT"
      },
      "execution_count": null,
      "outputs": []
    },
    {
      "cell_type": "markdown",
      "source": [
        "Calculation of one vs one confusion matrix having parameters such as TP,FP,TN,FN "
      ],
      "metadata": {
        "id": "xyisVd-fpGaC"
      }
    },
    {
      "cell_type": "code",
      "source": [
        "def confusionmatrixperclass(pc,nc,y_test, pred):\n",
        "  fp, fn, tp, tn = 0, 0, 0, 0\n",
        "\n",
        "  for actual_value, predicted_value in zip(y_test, pred):\n",
        "      num = 1\n",
        "      if predicted_value == pc and actual_value == pc:\n",
        "        tp = tp+num\n",
        "      elif predicted_value == pc and actual_value != pc:\n",
        "        fp = fp+num\n",
        "      elif predicted_value == nc and actual_value == nc:\n",
        "        tn = tn+num\n",
        "      elif predicted_value == nc and actual_value != nc:\n",
        "        fn = fn+num\n",
        "  cm = [\n",
        "      [tn, fp],\n",
        "      [fn, tp]\n",
        "  ]\n",
        "  return cm "
      ],
      "metadata": {
        "id": "ZiCmlkjY9MwS"
      },
      "execution_count": null,
      "outputs": []
    },
    {
      "cell_type": "code",
      "source": [
        "from sklearn.metrics import confusion_matrix"
      ],
      "metadata": {
        "id": "tfPjNw0xKZ1L"
      },
      "execution_count": null,
      "outputs": []
    },
    {
      "cell_type": "markdown",
      "source": [
        "importing pandas, seaborn, matplotlkib for ploting and visual representation"
      ],
      "metadata": {
        "id": "zKRsWUrl9jmb"
      }
    },
    {
      "cell_type": "code",
      "source": [
        "import pandas as pd\n",
        "import numpy as np\n",
        "import seaborn \n",
        "import matplotlib"
      ],
      "metadata": {
        "id": "VwDeNFHTKbJt"
      },
      "execution_count": null,
      "outputs": []
    },
    {
      "cell_type": "code",
      "source": [
        "def calculate_tpr_fpr(y_real, y_pred):\n",
        "\n",
        "    cm = confusion_matrix(y_real, y_pred)\n",
        "    TN, FP, FN, TP = cm[0, 0], cm[0, 1], cm[1, 0], cm[1, 1]\n",
        "    tpr, fpr =  TP/(TP + FN), 1 - TN/(TN+FP) \n",
        "    return tpr, fpr\n",
        "\n",
        "def get_all_roc_coordinates(y_real, y_proba):\n",
        "    uyt = 0\n",
        "    tpr_list, fpr_list = [uyt], [uyt]\n",
        "    for i in range(len(y_proba)):\n",
        "        threshold = y_proba[i]\n",
        "        y_pred = y_proba >= threshold\n",
        "        tre1, tre2 = y_real, y_pred\n",
        "        tpr, fpr = calculate_tpr_fpr(tre1, tre2)\n",
        "        tpr_final, fpr_final = tpr, fpr\n",
        "        tpr_list.append(tpr_final)\n",
        "        fpr_list.append(fpr_final)\n",
        "    return tpr_list, fpr_list\n",
        "\n",
        "\n",
        "def plot_roc_curve(tpr, fpr, scatter = True, ax = None):\n",
        "    if ax == None:\n",
        "        five = 5\n",
        "        matplotlib.pyplot.figure(figsize = (five, five))\n",
        "        ax = matplotlib.pyplot.axes()\n",
        "    if scatter:\n",
        "        seaborn.scatterplot(x = fpr, y = tpr, ax = ax)\n",
        "    seaborn.lineplot(x = fpr, y = tpr, ax = ax)\n",
        "    xx, yy = -0.05, 1.05\n",
        "    xer, one = 0,1\n",
        "    seaborn.lineplot(x = [xer, one], y = [xer, one], color = 'green', ax = ax)\n",
        "    matplotlib.pyplot.xlim(xx,yy)\n",
        "    matplotlib.pyplot.ylim(xx,yy)\n",
        "    matplotlib.pyplot.xlabel(\"False Positive Rate\")\n",
        "    matplotlib.pyplot.ylabel(\"True Positive Rate\")"
      ],
      "metadata": {
        "id": "8a-S_n5uG8F0"
      },
      "execution_count": null,
      "outputs": []
    },
    {
      "cell_type": "code",
      "source": [
        "prob, pred = clf2.predict_proba(X_test), clf2.predict(X_test)\n",
        "classes = clf2.classes_"
      ],
      "metadata": {
        "id": "k49t-pFJTe-g"
      },
      "execution_count": null,
      "outputs": []
    },
    {
      "cell_type": "code",
      "source": [
        "pred, prob = np.array(pred), np.array(prob)"
      ],
      "metadata": {
        "id": "b7SCcScTWudR"
      },
      "execution_count": null,
      "outputs": []
    },
    {
      "cell_type": "code",
      "source": [
        "def func(c,y_test):\n",
        "  list_comp = [1 if i == c else 0 for i in y_test]\n",
        "  return list_comp"
      ],
      "metadata": {
        "id": "3fI4_XQTX994"
      },
      "execution_count": null,
      "outputs": []
    },
    {
      "cell_type": "code",
      "source": [
        "matplotlib.pyplot.figure(figsize = (12, 8))\n",
        "from sklearn.metrics import roc_auc_score\n",
        "bins = [i/20 for i in range(20)] + [1]\n",
        "roc_auc_ovr = dict()\n",
        "\n",
        "for i in range(len(classes)):\n",
        "    c = classes[i]\n",
        "    val1, val2 = func(c,y_test), prob[:, i]    \n",
        "    two, five, one = 2,5,1\n",
        "    ax_bottom = matplotlib.pyplot.subplot(two, five, i+one)\n",
        "    tpr, fpr = get_all_roc_coordinates(val1, val2)\n",
        "    val = False\n",
        "    plot_roc_curve(tpr, fpr, scatter = val, ax = ax_bottom)\n",
        "    ax_bottom.set_title(\"ROC Curve\")\n",
        "    \n",
        "    roc_auc_ovr[c] = roc_auc_score(val1, val2)\n",
        "    \n",
        "matplotlib.pyplot.tight_layout()\n"
      ],
      "metadata": {
        "colab": {
          "base_uri": "https://localhost:8080/",
          "height": 585
        },
        "id": "5uVhDpTfWanT",
        "outputId": "4e76ff58-97ac-4ceb-9725-4a2bc50a3319"
      },
      "execution_count": null,
      "outputs": [
        {
          "output_type": "display_data",
          "data": {
            "text/plain": [
              "<Figure size 864x576 with 10 Axes>"
            ],
            "image/png": "[encoded data removed]"
          },
          "metadata": {
            "needs_background": "light"
          }
        }
      ]
    },
    {
      "cell_type": "code",
      "source": [
        "ten_num = 10\n",
        "for i in range(0,ten_num):\n",
        "  for j in range(0,ten_num):\n",
        "    cm = confusionmatrixperclass(i,j,y_test,pred)\n",
        "    print(\"confusion matrix for positive class \",i,\" and negative class \",j,\"\\n\")\n",
        "    print(cm)\n",
        "    print(\"\\n\")"
      ],
      "metadata": {
        "colab": {
          "base_uri": "https://localhost:8080/"
        },
        "id": "1fnZTub_EWUH",
        "outputId": "e5c95541-a0a7-49b1-a138-7d5107fae37e"
      },
      "execution_count": null,
      "outputs": [
        {
          "output_type": "stream",
          "name": "stdout",
          "text": [
            "confusion matrix for positive class  0  and negative class  0 \n",
            "\n",
            "[[0, 117], [0, 702]]\n",
            "\n",
            "\n",
            "confusion matrix for positive class  0  and negative class  1 \n",
            "\n",
            "[[679, 117], [100, 702]]\n",
            "\n",
            "\n",
            "confusion matrix for positive class  0  and negative class  2 \n",
            "\n",
            "[[718, 117], [76, 702]]\n",
            "\n",
            "\n",
            "confusion matrix for positive class  0  and negative class  3 \n",
            "\n",
            "[[651, 117], [222, 702]]\n",
            "\n",
            "\n",
            "confusion matrix for positive class  0  and negative class  4 \n",
            "\n",
            "[[670, 117], [146, 702]]\n",
            "\n",
            "\n",
            "confusion matrix for positive class  0  and negative class  5 \n",
            "\n",
            "[[611, 117], [137, 702]]\n",
            "\n",
            "\n",
            "confusion matrix for positive class  0  and negative class  6 \n",
            "\n",
            "[[655, 117], [92, 702]]\n",
            "\n",
            "\n",
            "confusion matrix for positive class  0  and negative class  7 \n",
            "\n",
            "[[676, 117], [140, 702]]\n",
            "\n",
            "\n",
            "confusion matrix for positive class  0  and negative class  8 \n",
            "\n",
            "[[720, 117], [132, 702]]\n",
            "\n",
            "\n",
            "confusion matrix for positive class  0  and negative class  9 \n",
            "\n",
            "[[657, 117], [99, 702]]\n",
            "\n",
            "\n",
            "confusion matrix for positive class  1  and negative class  0 \n",
            "\n",
            "[[702, 100], [117, 679]]\n",
            "\n",
            "\n",
            "confusion matrix for positive class  1  and negative class  1 \n",
            "\n",
            "[[0, 100], [0, 679]]\n",
            "\n",
            "\n",
            "confusion matrix for positive class  1  and negative class  2 \n",
            "\n",
            "[[718, 100], [76, 679]]\n",
            "\n",
            "\n",
            "confusion matrix for positive class  1  and negative class  3 \n",
            "\n",
            "[[651, 100], [222, 679]]\n",
            "\n",
            "\n",
            "confusion matrix for positive class  1  and negative class  4 \n",
            "\n",
            "[[670, 100], [146, 679]]\n",
            "\n",
            "\n",
            "confusion matrix for positive class  1  and negative class  5 \n",
            "\n",
            "[[611, 100], [137, 679]]\n",
            "\n",
            "\n",
            "confusion matrix for positive class  1  and negative class  6 \n",
            "\n",
            "[[655, 100], [92, 679]]\n",
            "\n",
            "\n",
            "confusion matrix for positive class  1  and negative class  7 \n",
            "\n",
            "[[676, 100], [140, 679]]\n",
            "\n",
            "\n",
            "confusion matrix for positive class  1  and negative class  8 \n",
            "\n",
            "[[720, 100], [132, 679]]\n",
            "\n",
            "\n",
            "confusion matrix for positive class  1  and negative class  9 \n",
            "\n",
            "[[657, 100], [99, 679]]\n",
            "\n",
            "\n",
            "confusion matrix for positive class  2  and negative class  0 \n",
            "\n",
            "[[702, 76], [117, 718]]\n",
            "\n",
            "\n",
            "confusion matrix for positive class  2  and negative class  1 \n",
            "\n",
            "[[679, 76], [100, 718]]\n",
            "\n",
            "\n",
            "confusion matrix for positive class  2  and negative class  2 \n",
            "\n",
            "[[0, 76], [0, 718]]\n",
            "\n",
            "\n",
            "confusion matrix for positive class  2  and negative class  3 \n",
            "\n",
            "[[651, 76], [222, 718]]\n",
            "\n",
            "\n",
            "confusion matrix for positive class  2  and negative class  4 \n",
            "\n",
            "[[670, 76], [146, 718]]\n",
            "\n",
            "\n",
            "confusion matrix for positive class  2  and negative class  5 \n",
            "\n",
            "[[611, 76], [137, 718]]\n",
            "\n",
            "\n",
            "confusion matrix for positive class  2  and negative class  6 \n",
            "\n",
            "[[655, 76], [92, 718]]\n",
            "\n",
            "\n",
            "confusion matrix for positive class  2  and negative class  7 \n",
            "\n",
            "[[676, 76], [140, 718]]\n",
            "\n",
            "\n",
            "confusion matrix for positive class  2  and negative class  8 \n",
            "\n",
            "[[720, 76], [132, 718]]\n",
            "\n",
            "\n",
            "confusion matrix for positive class  2  and negative class  9 \n",
            "\n",
            "[[657, 76], [99, 718]]\n",
            "\n",
            "\n",
            "confusion matrix for positive class  3  and negative class  0 \n",
            "\n",
            "[[702, 222], [117, 651]]\n",
            "\n",
            "\n",
            "confusion matrix for positive class  3  and negative class  1 \n",
            "\n",
            "[[679, 222], [100, 651]]\n",
            "\n",
            "\n",
            "confusion matrix for positive class  3  and negative class  2 \n",
            "\n",
            "[[718, 222], [76, 651]]\n",
            "\n",
            "\n",
            "confusion matrix for positive class  3  and negative class  3 \n",
            "\n",
            "[[0, 222], [0, 651]]\n",
            "\n",
            "\n",
            "confusion matrix for positive class  3  and negative class  4 \n",
            "\n",
            "[[670, 222], [146, 651]]\n",
            "\n",
            "\n",
            "confusion matrix for positive class  3  and negative class  5 \n",
            "\n",
            "[[611, 222], [137, 651]]\n",
            "\n",
            "\n",
            "confusion matrix for positive class  3  and negative class  6 \n",
            "\n",
            "[[655, 222], [92, 651]]\n",
            "\n",
            "\n",
            "confusion matrix for positive class  3  and negative class  7 \n",
            "\n",
            "[[676, 222], [140, 651]]\n",
            "\n",
            "\n",
            "confusion matrix for positive class  3  and negative class  8 \n",
            "\n",
            "[[720, 222], [132, 651]]\n",
            "\n",
            "\n",
            "confusion matrix for positive class  3  and negative class  9 \n",
            "\n",
            "[[657, 222], [99, 651]]\n",
            "\n",
            "\n",
            "confusion matrix for positive class  4  and negative class  0 \n",
            "\n",
            "[[702, 146], [117, 670]]\n",
            "\n",
            "\n",
            "confusion matrix for positive class  4  and negative class  1 \n",
            "\n",
            "[[679, 146], [100, 670]]\n",
            "\n",
            "\n",
            "confusion matrix for positive class  4  and negative class  2 \n",
            "\n",
            "[[718, 146], [76, 670]]\n",
            "\n",
            "\n",
            "confusion matrix for positive class  4  and negative class  3 \n",
            "\n",
            "[[651, 146], [222, 670]]\n",
            "\n",
            "\n",
            "confusion matrix for positive class  4  and negative class  4 \n",
            "\n",
            "[[0, 146], [0, 670]]\n",
            "\n",
            "\n",
            "confusion matrix for positive class  4  and negative class  5 \n",
            "\n",
            "[[611, 146], [137, 670]]\n",
            "\n",
            "\n",
            "confusion matrix for positive class  4  and negative class  6 \n",
            "\n",
            "[[655, 146], [92, 670]]\n",
            "\n",
            "\n",
            "confusion matrix for positive class  4  and negative class  7 \n",
            "\n",
            "[[676, 146], [140, 670]]\n",
            "\n",
            "\n",
            "confusion matrix for positive class  4  and negative class  8 \n",
            "\n",
            "[[720, 146], [132, 670]]\n",
            "\n",
            "\n",
            "confusion matrix for positive class  4  and negative class  9 \n",
            "\n",
            "[[657, 146], [99, 670]]\n",
            "\n",
            "\n",
            "confusion matrix for positive class  5  and negative class  0 \n",
            "\n",
            "[[702, 137], [117, 611]]\n",
            "\n",
            "\n",
            "confusion matrix for positive class  5  and negative class  1 \n",
            "\n",
            "[[679, 137], [100, 611]]\n",
            "\n",
            "\n",
            "confusion matrix for positive class  5  and negative class  2 \n",
            "\n",
            "[[718, 137], [76, 611]]\n",
            "\n",
            "\n",
            "confusion matrix for positive class  5  and negative class  3 \n",
            "\n",
            "[[651, 137], [222, 611]]\n",
            "\n",
            "\n",
            "confusion matrix for positive class  5  and negative class  4 \n",
            "\n",
            "[[670, 137], [146, 611]]\n",
            "\n",
            "\n",
            "confusion matrix for positive class  5  and negative class  5 \n",
            "\n",
            "[[0, 137], [0, 611]]\n",
            "\n",
            "\n",
            "confusion matrix for positive class  5  and negative class  6 \n",
            "\n",
            "[[655, 137], [92, 611]]\n",
            "\n",
            "\n",
            "confusion matrix for positive class  5  and negative class  7 \n",
            "\n",
            "[[676, 137], [140, 611]]\n",
            "\n",
            "\n",
            "confusion matrix for positive class  5  and negative class  8 \n",
            "\n",
            "[[720, 137], [132, 611]]\n",
            "\n",
            "\n",
            "confusion matrix for positive class  5  and negative class  9 \n",
            "\n",
            "[[657, 137], [99, 611]]\n",
            "\n",
            "\n",
            "confusion matrix for positive class  6  and negative class  0 \n",
            "\n",
            "[[702, 92], [117, 655]]\n",
            "\n",
            "\n",
            "confusion matrix for positive class  6  and negative class  1 \n",
            "\n",
            "[[679, 92], [100, 655]]\n",
            "\n",
            "\n",
            "confusion matrix for positive class  6  and negative class  2 \n",
            "\n",
            "[[718, 92], [76, 655]]\n",
            "\n",
            "\n",
            "confusion matrix for positive class  6  and negative class  3 \n",
            "\n",
            "[[651, 92], [222, 655]]\n",
            "\n",
            "\n",
            "confusion matrix for positive class  6  and negative class  4 \n",
            "\n",
            "[[670, 92], [146, 655]]\n",
            "\n",
            "\n",
            "confusion matrix for positive class  6  and negative class  5 \n",
            "\n",
            "[[611, 92], [137, 655]]\n",
            "\n",
            "\n",
            "confusion matrix for positive class  6  and negative class  6 \n",
            "\n",
            "[[0, 92], [0, 655]]\n",
            "\n",
            "\n",
            "confusion matrix for positive class  6  and negative class  7 \n",
            "\n",
            "[[676, 92], [140, 655]]\n",
            "\n",
            "\n",
            "confusion matrix for positive class  6  and negative class  8 \n",
            "\n",
            "[[720, 92], [132, 655]]\n",
            "\n",
            "\n",
            "confusion matrix for positive class  6  and negative class  9 \n",
            "\n",
            "[[657, 92], [99, 655]]\n",
            "\n",
            "\n",
            "confusion matrix for positive class  7  and negative class  0 \n",
            "\n",
            "[[702, 140], [117, 676]]\n",
            "\n",
            "\n",
            "confusion matrix for positive class  7  and negative class  1 \n",
            "\n",
            "[[679, 140], [100, 676]]\n",
            "\n",
            "\n",
            "confusion matrix for positive class  7  and negative class  2 \n",
            "\n",
            "[[718, 140], [76, 676]]\n",
            "\n",
            "\n",
            "confusion matrix for positive class  7  and negative class  3 \n",
            "\n",
            "[[651, 140], [222, 676]]\n",
            "\n",
            "\n",
            "confusion matrix for positive class  7  and negative class  4 \n",
            "\n",
            "[[670, 140], [146, 676]]\n",
            "\n",
            "\n",
            "confusion matrix for positive class  7  and negative class  5 \n",
            "\n",
            "[[611, 140], [137, 676]]\n",
            "\n",
            "\n",
            "confusion matrix for positive class  7  and negative class  6 \n",
            "\n",
            "[[655, 140], [92, 676]]\n",
            "\n",
            "\n",
            "confusion matrix for positive class  7  and negative class  7 \n",
            "\n",
            "[[0, 140], [0, 676]]\n",
            "\n",
            "\n",
            "confusion matrix for positive class  7  and negative class  8 \n",
            "\n",
            "[[720, 140], [132, 676]]\n",
            "\n",
            "\n",
            "confusion matrix for positive class  7  and negative class  9 \n",
            "\n",
            "[[657, 140], [99, 676]]\n",
            "\n",
            "\n",
            "confusion matrix for positive class  8  and negative class  0 \n",
            "\n",
            "[[702, 132], [117, 720]]\n",
            "\n",
            "\n",
            "confusion matrix for positive class  8  and negative class  1 \n",
            "\n",
            "[[679, 132], [100, 720]]\n",
            "\n",
            "\n",
            "confusion matrix for positive class  8  and negative class  2 \n",
            "\n",
            "[[718, 132], [76, 720]]\n",
            "\n",
            "\n",
            "confusion matrix for positive class  8  and negative class  3 \n",
            "\n",
            "[[651, 132], [222, 720]]\n",
            "\n",
            "\n",
            "confusion matrix for positive class  8  and negative class  4 \n",
            "\n",
            "[[670, 132], [146, 720]]\n",
            "\n",
            "\n",
            "confusion matrix for positive class  8  and negative class  5 \n",
            "\n",
            "[[611, 132], [137, 720]]\n",
            "\n",
            "\n",
            "confusion matrix for positive class  8  and negative class  6 \n",
            "\n",
            "[[655, 132], [92, 720]]\n",
            "\n",
            "\n",
            "confusion matrix for positive class  8  and negative class  7 \n",
            "\n",
            "[[676, 132], [140, 720]]\n",
            "\n",
            "\n",
            "confusion matrix for positive class  8  and negative class  8 \n",
            "\n",
            "[[0, 132], [0, 720]]\n",
            "\n",
            "\n",
            "confusion matrix for positive class  8  and negative class  9 \n",
            "\n",
            "[[657, 132], [99, 720]]\n",
            "\n",
            "\n",
            "confusion matrix for positive class  9  and negative class  0 \n",
            "\n",
            "[[702, 99], [117, 657]]\n",
            "\n",
            "\n",
            "confusion matrix for positive class  9  and negative class  1 \n",
            "\n",
            "[[679, 99], [100, 657]]\n",
            "\n",
            "\n",
            "confusion matrix for positive class  9  and negative class  2 \n",
            "\n",
            "[[718, 99], [76, 657]]\n",
            "\n",
            "\n",
            "confusion matrix for positive class  9  and negative class  3 \n",
            "\n",
            "[[651, 99], [222, 657]]\n",
            "\n",
            "\n",
            "confusion matrix for positive class  9  and negative class  4 \n",
            "\n",
            "[[670, 99], [146, 657]]\n",
            "\n",
            "\n",
            "confusion matrix for positive class  9  and negative class  5 \n",
            "\n",
            "[[611, 99], [137, 657]]\n",
            "\n",
            "\n",
            "confusion matrix for positive class  9  and negative class  6 \n",
            "\n",
            "[[655, 99], [92, 657]]\n",
            "\n",
            "\n",
            "confusion matrix for positive class  9  and negative class  7 \n",
            "\n",
            "[[676, 99], [140, 657]]\n",
            "\n",
            "\n",
            "confusion matrix for positive class  9  and negative class  8 \n",
            "\n",
            "[[720, 99], [132, 657]]\n",
            "\n",
            "\n",
            "confusion matrix for positive class  9  and negative class  9 \n",
            "\n",
            "[[0, 99], [0, 657]]\n",
            "\n",
            "\n"
          ]
        }
      ]
    }
  ]
}